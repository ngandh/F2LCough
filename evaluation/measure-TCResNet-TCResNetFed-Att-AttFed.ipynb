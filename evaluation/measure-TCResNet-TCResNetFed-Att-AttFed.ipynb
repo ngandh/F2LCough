{
 "cells": [
  {
   "cell_type": "code",
   "execution_count": 1,
   "metadata": {},
   "outputs": [
    {
     "name": "stdout",
     "output_type": "stream",
     "text": [
      "D:\\Jupyter\\Cough Classification\\few-shot-ho-master\n"
     ]
    }
   ],
   "source": [
    "cd \"D:\\Jupyter\\Cough Classification\\few-shot-ho-master\""
   ]
  },
  {
   "cell_type": "code",
   "execution_count": 2,
   "metadata": {},
   "outputs": [],
   "source": [
    "import torch\n",
    "import torchaudio\n",
    "import torch.nn as nn\n",
    "import os\n",
    "from os import listdir\n",
    "import torch.nn.functional as F\n",
    "from protonets.models.encoder.baseUtil import Flatten, get_padding\n",
    "from collections import OrderedDict\n",
    "import numpy as np"
   ]
  },
  {
   "cell_type": "code",
   "execution_count": 3,
   "metadata": {},
   "outputs": [],
   "source": [
    "import os\n",
    "def cough_path(file):\n",
    "    '''\n",
    "    get file_path and label of this file\n",
    "    '''\n",
    "    label = file.split(\"_\")[0]\n",
    "#     print(label)\n",
    "    file_path =os.path.join(os.path.join(path, label), file)\n",
    "    return file_path, label\n",
    "\n",
    "def build_mfcc_extractor():\n",
    "    '''\n",
    "    extract mfcc\n",
    "    '''\n",
    "    frame_len = 128/ 1000\n",
    "    stride = (128/2)/ 1000\n",
    "    sample_rate = 16000\n",
    "    mfcc = torchaudio.transforms.MFCC(sample_rate = 16000,\n",
    "                                    n_mfcc=40,\n",
    "                                    melkwargs={\n",
    "                                        'hop_length' : int(stride*sample_rate),\n",
    "                                        'n_fft' : int(frame_len*sample_rate)})\n",
    "    return mfcc\n",
    "    \n",
    "def load_audio(filepath):\n",
    "    '''\n",
    "    read audio file\n",
    "    '''\n",
    "    desired_samples = int(16000*1000/1000)\n",
    "    sound, _ = torchaudio.load(filepath=filepath,\n",
    "                                     num_frames=desired_samples)\n",
    "#         d[out_field] = sound\n",
    "    return sound\n",
    "\n",
    "def getData(file):\n",
    "    '''step-by-step: extract feature and get label of audio file'''\n",
    "    file_path, label = cough_path(file)\n",
    "    sound = load_audio(file_path)\n",
    "#     print(\"file: \", sound)\n",
    "    mfcc = build_mfcc_extractor()\n",
    "#     x = mfcc(sound).reshape(1,51,40)\n",
    "    features = mfcc(sound)[0]\n",
    "    features = features.T # f x t -> t x f\n",
    "    x = torch.unsqueeze(features,0)\n",
    "#     print(x.shape)\n",
    "    return x, label\n",
    "\n",
    "def euclidean_dist(x, y):\n",
    "    '''calculate Euclidean distance'''\n",
    "    # x: N x D\n",
    "    # y: M x D\n",
    "#     print(x.shape) #1, 3, 48\n",
    "    n = x.size(0)\n",
    "    m = y.size(0)\n",
    "    d = x.size(1)\n",
    "#     print(n, m, d)\n",
    "#     print(\"y_Shape: \", y.shape) #3, 1, 48\n",
    "#     print(y.size(1))\n",
    "    assert d == y.size(1)\n",
    "\n",
    "    x = x.unsqueeze(1).expand(n, m, d)\n",
    "#     print(x)\n",
    "#     print(\"x_u: \", x.shape)\n",
    "    y = y.unsqueeze(0).expand(n, m, d)\n",
    "#     print(y)\n",
    "#     print(\"y_u: \", y.shape)\n",
    "    return torch.pow(x - y, 2).sum(2)"
   ]
  },
  {
   "cell_type": "code",
   "execution_count": null,
   "metadata": {},
   "outputs": [],
   "source": []
  },
  {
   "cell_type": "code",
   "execution_count": 4,
   "metadata": {},
   "outputs": [],
   "source": [
    "\n",
    "# query = request.FILES.get('query', None).name\n",
    "# s1 = request.FILES.get('s1', None).name\n",
    "# audio.append(s1)\n",
    "# s2 = request.FILES.get('s2', None).name\n",
    "# audio.append(s2)\n",
    "# s3 = request.FILES.get('s3', None).name\n",
    "# audio.append(s3)\n",
    "# s4 = request.FILES.get('s4', None).name\n",
    "# audio.append(s4)\n",
    "\n",
    "def get_support(audio):\n",
    "    support = {}\n",
    "    labels = []\n",
    "    for file in audio:\n",
    "        label = file.split(\"_\")[0]\n",
    "        if label not in labels:\n",
    "            labels.append(label)\n",
    "        if label not in support:\n",
    "            support[label] = []\n",
    "        for same in audio:\n",
    "            if label == same.split(\"_\")[0]:\n",
    "                if same not in support[label]:\n",
    "                    support[label].append(same)\n",
    "    return support, labels\n",
    "\n",
    "def predictLabel(query, support, labels):\n",
    "    x, label = getData(query)\n",
    "    xq_emb = model.encoder(x.reshape(1, 1, 16, 40))\n",
    "#     print(\"xq_emb: \", xq_emb.shape)\n",
    "    su_label = []\n",
    "    su_pro = []\n",
    "    for key, value in support.items():\n",
    "        su_label.append(key)\n",
    "        tmp = []\n",
    "        check = 0\n",
    "        count = 0\n",
    "        for i in value:\n",
    "            x, label_i = getData(i)\n",
    "            feature = x.reshape(1, 1, 16, 40)\n",
    "            emb = model.encoder.forward(feature).squeeze()\n",
    "#             print(\"y_emb:\", emb.shape)\n",
    "            check += emb\n",
    "            tmp.append(emb.detach().numpy())\n",
    "            count += 1\n",
    "#         print(\"check:\", (check/3).shape)\n",
    "#         print(\"check:\", check/count, count)\n",
    "        tmp = np.array(tmp)\n",
    "        pro = (tmp).mean(0)\n",
    "#         print(\"pro: \", pro)\n",
    "        su_pro.append(pro)\n",
    "    dists = euclidean_dist(xq_emb.reshape(1, 48), torch.tensor(su_pro))\n",
    "#     dists = euclidean_dist(xq_emb.reshape(1, 9), torch.tensor(su_pro))\n",
    "    n_class, n_query = torch.tensor(su_pro).shape[0], 1\n",
    "    log_p_y = F.log_softmax(-dists, dim=1).view(n_class, n_query, -1)\n",
    "#     print(\"log_py: \", log_p_y)\n",
    "    g, y_hat = log_p_y.max(0)\n",
    "#     print(\"log_py: \", log_p_y.max(0))\n",
    "#     print(\"g, y_hat: \", g, y_hat)\n",
    "    pred = labels[y_hat.squeeze()]\n",
    "    return pred, label"
   ]
  },
  {
   "cell_type": "code",
   "execution_count": 5,
   "metadata": {},
   "outputs": [
    {
     "name": "stdout",
     "output_type": "stream",
     "text": [
      "barkingcough:  1040\n",
      "chestyandwetcough:  1663\n",
      "coughingupcrapagain:  884\n",
      "dryafternooncough:  1040\n",
      "gaggywetcough:  1117\n",
      "heavycoldandsorethroatcoughing:  416\n",
      "nightwetcough:  1300\n",
      "springallergycoughing:  884\n",
      "unknown:  1557\n",
      "whoopingcough:  60\n"
     ]
    }
   ],
   "source": [
    "path = \"D:\\\\HoangNgan\\\\ThucTap\\\\Cough_data_Tuan1\\\\mono\"\n",
    "label_list = []\n",
    "label_dict = {}\n",
    "for i in listdir(path):\n",
    "    if \".txt\" not in i and 'aug' not in i:\n",
    "        if 'whooping' not in i:\n",
    "            label_list.append(i)\n",
    "            label_dict[str(i)] = len(listdir(os.path.join(path, i)))\n",
    "            print(str(i) + \": \", len(listdir(os.path.join(path, i))))\n",
    "        else:\n",
    "            label_list.append(i)\n",
    "            label_dict[str(i)] = 60\n",
    "            print(str(i) + \": \", label_dict[str(i)] )\n",
    "    "
   ]
  },
  {
   "cell_type": "code",
   "execution_count": 8,
   "metadata": {},
   "outputs": [
    {
     "data": {
      "text/plain": [
       "1663"
      ]
     },
     "execution_count": 8,
     "metadata": {},
     "output_type": "execute_result"
    }
   ],
   "source": [
    "label_dict[label_list[1]]"
   ]
  },
  {
   "cell_type": "code",
   "execution_count": 9,
   "metadata": {},
   "outputs": [
    {
     "name": "stdout",
     "output_type": "stream",
     "text": [
      "['barkingcough', 'chestyandwetcough', 'coughingupcrapagain', 'dryafternooncough', 'gaggywetcough', 'heavycoldandsorethroatcoughing', 'nightwetcough', 'springallergycoughing', 'unknown', 'whoopingcough']\n"
     ]
    }
   ],
   "source": [
    "print(label_list)"
   ]
  },
  {
   "cell_type": "code",
   "execution_count": 8,
   "metadata": {},
   "outputs": [],
   "source": [
    "audio = []\n",
    "query = \"whoopingcough_30.wav\"\n",
    "# audio.append(query)\n",
    "s1 = \"unknown_1.wav\"\n",
    "audio.append(s1)\n",
    "s2 = \"unknown_1.wav\"\n",
    "audio.append(s2)\n",
    "s3 = \"unknown_11.wav\"\n",
    "audio.append(s3)\n",
    "s4 = \"unknown_21.wav\"\n",
    "audio.append(s4)"
   ]
  },
  {
   "cell_type": "code",
   "execution_count": 6,
   "metadata": {},
   "outputs": [
    {
     "ename": "NameError",
     "evalue": "name 'audio' is not defined",
     "output_type": "error",
     "traceback": [
      "\u001b[1;31m---------------------------------------------------------------------------\u001b[0m",
      "\u001b[1;31mNameError\u001b[0m                                 Traceback (most recent call last)",
      "\u001b[1;32m<ipython-input-6-29a8a11729e2>\u001b[0m in \u001b[0;36m<module>\u001b[1;34m\u001b[0m\n\u001b[1;32m----> 1\u001b[1;33m \u001b[0msupport\u001b[0m\u001b[1;33m,\u001b[0m \u001b[0mlabels\u001b[0m \u001b[1;33m=\u001b[0m \u001b[0mget_support\u001b[0m\u001b[1;33m(\u001b[0m\u001b[0maudio\u001b[0m\u001b[1;33m)\u001b[0m\u001b[1;33m\u001b[0m\u001b[1;33m\u001b[0m\u001b[0m\n\u001b[0m\u001b[0;32m      2\u001b[0m \u001b[0mprint\u001b[0m\u001b[1;33m(\u001b[0m\u001b[0msupport\u001b[0m\u001b[1;33m,\u001b[0m \u001b[0mlabels\u001b[0m\u001b[1;33m)\u001b[0m\u001b[1;33m\u001b[0m\u001b[1;33m\u001b[0m\u001b[0m\n\u001b[0;32m      3\u001b[0m \u001b[0mprint\u001b[0m\u001b[1;33m(\u001b[0m\u001b[0mpredictLabel\u001b[0m\u001b[1;33m(\u001b[0m\u001b[0mquery\u001b[0m\u001b[1;33m,\u001b[0m \u001b[0msupport\u001b[0m\u001b[1;33m,\u001b[0m \u001b[0mlabels\u001b[0m\u001b[1;33m)\u001b[0m\u001b[1;33m)\u001b[0m\u001b[1;33m\u001b[0m\u001b[1;33m\u001b[0m\u001b[0m\n",
      "\u001b[1;31mNameError\u001b[0m: name 'audio' is not defined"
     ]
    }
   ],
   "source": [
    "support, labels = get_support(audio)\n",
    "print(support, labels)\n",
    "print(predictLabel(query, support, labels))"
   ]
  },
  {
   "cell_type": "code",
   "execution_count": 6,
   "metadata": {},
   "outputs": [],
   "source": [
    "#setup dataset\n",
    "#2way-2shot\n",
    "#train\n",
    "train_label = label_list[:8]\n",
    "test_label = label_list[8:]"
   ]
  },
  {
   "cell_type": "code",
   "execution_count": 7,
   "metadata": {},
   "outputs": [
    {
     "name": "stdout",
     "output_type": "stream",
     "text": [
      "['unknown', 'whoopingcough']\n"
     ]
    }
   ],
   "source": [
    "print(test_label)"
   ]
  },
  {
   "cell_type": "code",
   "execution_count": 11,
   "metadata": {},
   "outputs": [],
   "source": [
    "check_data_unk = {'0': ['unknown_1.wav', 'unknown_635.wav', 'unknown_960.wav', 'whoopingcough_5.wav', 'whoopingcough_37.wav'], '1': ['unknown_2.wav', 'unknown_394.wav', 'unknown_154.wav', 'whoopingcough_37.wav', 'whoopingcough_51.wav'], '2': ['unknown_3.wav', 'unknown_769.wav', 'unknown_568.wav', 'whoopingcough_60.wav', 'whoopingcough_22.wav'], '3': ['unknown_4.wav', 'unknown_143.wav', 'unknown_646.wav', 'whoopingcough_35.wav', 'whoopingcough_4.wav'], '4': ['unknown_5.wav', 'unknown_1551.wav', 'unknown_1500.wav', 'whoopingcough_14.wav', 'whoopingcough_48.wav'], '5': ['unknown_6.wav', 'unknown_1440.wav', 'unknown_1439.wav', 'whoopingcough_41.wav', 'whoopingcough_58.wav'], '6': ['unknown_7.wav', 'unknown_133.wav', 'unknown_752.wav', 'whoopingcough_51.wav', 'whoopingcough_52.wav'], '7': ['unknown_8.wav', 'unknown_1363.wav', 'unknown_65.wav', 'whoopingcough_37.wav', 'whoopingcough_3.wav'], '8': ['unknown_9.wav', 'unknown_753.wav', 'unknown_1540.wav', 'whoopingcough_28.wav', 'whoopingcough_32.wav'], '9': ['unknown_10.wav', 'unknown_181.wav', 'unknown_1100.wav', 'whoopingcough_18.wav', 'whoopingcough_46.wav'], '10': ['unknown_11.wav', 'unknown_1250.wav', 'unknown_551.wav', 'whoopingcough_33.wav', 'whoopingcough_1.wav'], '11': ['unknown_12.wav', 'unknown_240.wav', 'unknown_972.wav', 'whoopingcough_3.wav', 'whoopingcough_20.wav'], '12': ['unknown_13.wav', 'unknown_270.wav', 'unknown_1140.wav', 'whoopingcough_45.wav', 'whoopingcough_54.wav'], '13': ['unknown_14.wav', 'unknown_1127.wav', 'unknown_41.wav', 'whoopingcough_14.wav', 'whoopingcough_20.wav'], '14': ['unknown_15.wav', 'unknown_1358.wav', 'unknown_859.wav', 'whoopingcough_32.wav', 'whoopingcough_9.wav'], '15': ['unknown_16.wav', 'unknown_624.wav', 'unknown_258.wav', 'whoopingcough_41.wav', 'whoopingcough_52.wav'], '16': ['unknown_17.wav', 'unknown_1353.wav', 'unknown_794.wav', 'whoopingcough_54.wav', 'whoopingcough_43.wav'], '17': ['unknown_18.wav', 'unknown_669.wav', 'unknown_408.wav', 'whoopingcough_36.wav', 'whoopingcough_15.wav'], '18': ['unknown_19.wav', 'unknown_1410.wav', 'unknown_974.wav', 'whoopingcough_12.wav', 'whoopingcough_26.wav'], '19': ['unknown_20.wav', 'unknown_342.wav', 'unknown_1309.wav', 'whoopingcough_49.wav', 'whoopingcough_35.wav'], '20': ['unknown_21.wav', 'unknown_1528.wav', 'unknown_743.wav', 'whoopingcough_19.wav', 'whoopingcough_4.wav'], '21': ['unknown_22.wav', 'unknown_1256.wav', 'unknown_1193.wav', 'whoopingcough_40.wav', 'whoopingcough_60.wav'], '22': ['unknown_23.wav', 'unknown_1448.wav', 'unknown_545.wav', 'whoopingcough_36.wav', 'whoopingcough_47.wav'], '23': ['unknown_24.wav', 'unknown_1078.wav', 'unknown_1512.wav', 'whoopingcough_35.wav', 'whoopingcough_38.wav'], '24': ['unknown_25.wav', 'unknown_923.wav', 'unknown_1071.wav', 'whoopingcough_55.wav', 'whoopingcough_52.wav'], '25': ['unknown_26.wav', 'unknown_467.wav', 'unknown_1138.wav', 'whoopingcough_43.wav', 'whoopingcough_40.wav'], '26': ['unknown_27.wav', 'unknown_434.wav', 'unknown_222.wav', 'whoopingcough_22.wav', 'whoopingcough_21.wav'], '27': ['unknown_28.wav', 'unknown_241.wav', 'unknown_867.wav', 'whoopingcough_21.wav', 'whoopingcough_58.wav'], '28': ['unknown_29.wav', 'unknown_94.wav', 'unknown_1250.wav', 'whoopingcough_31.wav', 'whoopingcough_4.wav'], '29': ['unknown_30.wav', 'unknown_478.wav', 'unknown_51.wav', 'whoopingcough_10.wav', 'whoopingcough_18.wav'], '30': ['unknown_31.wav', 'unknown_1253.wav', 'unknown_1179.wav', 'whoopingcough_18.wav', 'whoopingcough_46.wav'], '31': ['unknown_32.wav', 'unknown_415.wav', 'unknown_536.wav', 'whoopingcough_40.wav', 'whoopingcough_19.wav'], '32': ['unknown_33.wav', 'unknown_1078.wav', 'unknown_235.wav', 'whoopingcough_28.wav', 'whoopingcough_56.wav'], '33': ['unknown_34.wav', 'unknown_1549.wav', 'unknown_534.wav', 'whoopingcough_7.wav', 'whoopingcough_12.wav'], '34': ['unknown_35.wav', 'unknown_1256.wav', 'unknown_747.wav', 'whoopingcough_13.wav', 'whoopingcough_14.wav'], '35': ['unknown_36.wav', 'unknown_1137.wav', 'unknown_727.wav', 'whoopingcough_41.wav', 'whoopingcough_28.wav'], '36': ['unknown_37.wav', 'unknown_1230.wav', 'unknown_490.wav', 'whoopingcough_5.wav', 'whoopingcough_53.wav'], '37': ['unknown_38.wav', 'unknown_885.wav', 'unknown_1095.wav', 'whoopingcough_46.wav', 'whoopingcough_55.wav'], '38': ['unknown_39.wav', 'unknown_1008.wav', 'unknown_660.wav', 'whoopingcough_8.wav', 'whoopingcough_36.wav'], '39': ['unknown_40.wav', 'unknown_358.wav', 'unknown_83.wav', 'whoopingcough_60.wav', 'whoopingcough_12.wav'], '40': ['unknown_41.wav', 'unknown_1514.wav', 'unknown_699.wav', 'whoopingcough_47.wav', 'whoopingcough_38.wav'], '41': ['unknown_42.wav', 'unknown_678.wav', 'unknown_1061.wav', 'whoopingcough_21.wav', 'whoopingcough_27.wav'], '42': ['unknown_43.wav', 'unknown_1416.wav', 'unknown_390.wav', 'whoopingcough_4.wav', 'whoopingcough_24.wav'], '43': ['unknown_44.wav', 'unknown_970.wav', 'unknown_759.wav', 'whoopingcough_37.wav', 'whoopingcough_25.wav'], '44': ['unknown_45.wav', 'unknown_581.wav', 'unknown_29.wav', 'whoopingcough_57.wav', 'whoopingcough_1.wav'], '45': ['unknown_46.wav', 'unknown_482.wav', 'unknown_602.wav', 'whoopingcough_32.wav', 'whoopingcough_31.wav'], '46': ['unknown_47.wav', 'unknown_1266.wav', 'unknown_588.wav', 'whoopingcough_8.wav', 'whoopingcough_49.wav'], '47': ['unknown_48.wav', 'unknown_1003.wav', 'unknown_1318.wav', 'whoopingcough_44.wav', 'whoopingcough_46.wav'], '48': ['unknown_49.wav', 'unknown_358.wav', 'unknown_1010.wav', 'whoopingcough_41.wav', 'whoopingcough_54.wav'], '49': ['unknown_50.wav', 'unknown_1549.wav', 'unknown_1023.wav', 'whoopingcough_10.wav', 'whoopingcough_24.wav'], '50': ['unknown_51.wav', 'unknown_380.wav', 'unknown_417.wav', 'whoopingcough_60.wav', 'whoopingcough_52.wav'], '51': ['unknown_52.wav', 'unknown_669.wav', 'unknown_33.wav', 'whoopingcough_11.wav', 'whoopingcough_50.wav'], '52': ['unknown_53.wav', 'unknown_8.wav', 'unknown_840.wav', 'whoopingcough_15.wav', 'whoopingcough_40.wav'], '53': ['unknown_54.wav', 'unknown_1261.wav', 'unknown_665.wav', 'whoopingcough_33.wav', 'whoopingcough_7.wav'], '54': ['unknown_55.wav', 'unknown_1542.wav', 'unknown_442.wav', 'whoopingcough_30.wav', 'whoopingcough_58.wav'], '55': ['unknown_56.wav', 'unknown_1030.wav', 'unknown_1154.wav', 'whoopingcough_5.wav', 'whoopingcough_48.wav'], '56': ['unknown_57.wav', 'unknown_981.wav', 'unknown_524.wav', 'whoopingcough_6.wav', 'whoopingcough_1.wav'], '57': ['unknown_58.wav', 'unknown_1028.wav', 'unknown_531.wav', 'whoopingcough_26.wav', 'whoopingcough_46.wav'], '58': ['unknown_59.wav', 'unknown_285.wav', 'unknown_454.wav', 'whoopingcough_14.wav', 'whoopingcough_35.wav'], '59': ['unknown_60.wav', 'unknown_603.wav', 'unknown_1003.wav', 'whoopingcough_6.wav', 'whoopingcough_56.wav']}"
   ]
  },
  {
   "cell_type": "code",
   "execution_count": 12,
   "metadata": {},
   "outputs": [],
   "source": [
    "check_data_wh = {'0': ['whoopingcough_1.wav', 'whoopingcough_18.wav', 'whoopingcough_27.wav', 'unknown_660.wav', 'unknown_144.wav'], '1': ['whoopingcough_2.wav', 'whoopingcough_6.wav', 'whoopingcough_30.wav', 'unknown_299.wav', 'unknown_1260.wav'], '2': ['whoopingcough_3.wav', 'whoopingcough_15.wav', 'whoopingcough_4.wav', 'unknown_554.wav', 'unknown_739.wav'], '3': ['whoopingcough_4.wav', 'whoopingcough_34.wav', 'whoopingcough_28.wav', 'unknown_1324.wav', 'unknown_188.wav'], '4': ['whoopingcough_5.wav', 'whoopingcough_52.wav', 'whoopingcough_47.wav', 'unknown_1438.wav', 'unknown_196.wav'], '5': ['whoopingcough_6.wav', 'whoopingcough_3.wav', 'whoopingcough_11.wav', 'unknown_900.wav', 'unknown_675.wav'], '6': ['whoopingcough_7.wav', 'whoopingcough_19.wav', 'whoopingcough_32.wav', 'unknown_933.wav', 'unknown_1198.wav'], '7': ['whoopingcough_8.wav', 'whoopingcough_13.wav', 'whoopingcough_45.wav', 'unknown_558.wav', 'unknown_1230.wav'], '8': ['whoopingcough_9.wav', 'whoopingcough_11.wav', 'whoopingcough_50.wav', 'unknown_708.wav', 'unknown_1462.wav'], '9': ['whoopingcough_10.wav', 'whoopingcough_16.wav', 'whoopingcough_54.wav', 'unknown_335.wav', 'unknown_783.wav'], '10': ['whoopingcough_11.wav', 'whoopingcough_35.wav', 'whoopingcough_10.wav', 'unknown_831.wav', 'unknown_729.wav'], '11': ['whoopingcough_12.wav', 'whoopingcough_11.wav', 'whoopingcough_56.wav', 'unknown_234.wav', 'unknown_1450.wav'], '12': ['whoopingcough_13.wav', 'whoopingcough_16.wav', 'whoopingcough_40.wav', 'unknown_1403.wav', 'unknown_1234.wav'], '13': ['whoopingcough_14.wav', 'whoopingcough_28.wav', 'whoopingcough_56.wav', 'unknown_516.wav', 'unknown_475.wav'], '14': ['whoopingcough_15.wav', 'whoopingcough_14.wav', 'whoopingcough_18.wav', 'unknown_145.wav', 'unknown_1063.wav'], '15': ['whoopingcough_16.wav', 'whoopingcough_51.wav', 'whoopingcough_49.wav', 'unknown_267.wav', 'unknown_1003.wav'], '16': ['whoopingcough_17.wav', 'whoopingcough_24.wav', 'whoopingcough_57.wav', 'unknown_165.wav', 'unknown_1190.wav'], '17': ['whoopingcough_18.wav', 'whoopingcough_60.wav', 'whoopingcough_35.wav', 'unknown_1039.wav', 'unknown_125.wav'], '18': ['whoopingcough_19.wav', 'whoopingcough_36.wav', 'whoopingcough_58.wav', 'unknown_678.wav', 'unknown_1118.wav'], '19': ['whoopingcough_20.wav', 'whoopingcough_18.wav', 'whoopingcough_15.wav', 'unknown_887.wav', 'unknown_792.wav'], '20': ['whoopingcough_21.wav', 'whoopingcough_18.wav', 'whoopingcough_17.wav', 'unknown_107.wav', 'unknown_569.wav'], '21': ['whoopingcough_22.wav', 'whoopingcough_52.wav', 'whoopingcough_28.wav', 'unknown_117.wav', 'unknown_114.wav'], '22': ['whoopingcough_23.wav', 'whoopingcough_17.wav', 'whoopingcough_40.wav', 'unknown_23.wav', 'unknown_40.wav'], '23': ['whoopingcough_24.wav', 'whoopingcough_6.wav', 'whoopingcough_18.wav', 'unknown_52.wav', 'unknown_264.wav'], '24': ['whoopingcough_25.wav', 'whoopingcough_52.wav', 'whoopingcough_38.wav', 'unknown_1423.wav', 'unknown_548.wav'], '25': ['whoopingcough_26.wav', 'whoopingcough_3.wav', 'whoopingcough_24.wav', 'unknown_213.wav', 'unknown_386.wav'], '26': ['whoopingcough_27.wav', 'whoopingcough_59.wav', 'whoopingcough_24.wav', 'unknown_1288.wav', 'unknown_115.wav'], '27': ['whoopingcough_28.wav', 'whoopingcough_3.wav', 'whoopingcough_60.wav', 'unknown_948.wav', 'unknown_137.wav'], '28': ['whoopingcough_29.wav', 'whoopingcough_44.wav', 'whoopingcough_32.wav', 'unknown_141.wav', 'unknown_1134.wav'], '29': ['whoopingcough_30.wav', 'whoopingcough_36.wav', 'whoopingcough_51.wav', 'unknown_597.wav', 'unknown_841.wav'], '30': ['whoopingcough_31.wav', 'whoopingcough_51.wav', 'whoopingcough_49.wav', 'unknown_316.wav', 'unknown_978.wav'], '31': ['whoopingcough_32.wav', 'whoopingcough_28.wav', 'whoopingcough_51.wav', 'unknown_764.wav', 'unknown_141.wav'], '32': ['whoopingcough_33.wav', 'whoopingcough_53.wav', 'whoopingcough_4.wav', 'unknown_1528.wav', 'unknown_390.wav'], '33': ['whoopingcough_34.wav', 'whoopingcough_14.wav', 'whoopingcough_10.wav', 'unknown_1435.wav', 'unknown_1192.wav'], '34': ['whoopingcough_35.wav', 'whoopingcough_28.wav', 'whoopingcough_49.wav', 'unknown_393.wav', 'unknown_110.wav'], '35': ['whoopingcough_36.wav', 'whoopingcough_13.wav', 'whoopingcough_31.wav', 'unknown_282.wav', 'unknown_27.wav'], '36': ['whoopingcough_37.wav', 'whoopingcough_26.wav', 'whoopingcough_23.wav', 'unknown_951.wav', 'unknown_497.wav'], '37': ['whoopingcough_38.wav', 'whoopingcough_50.wav', 'whoopingcough_19.wav', 'unknown_1220.wav', 'unknown_1089.wav'], '38': ['whoopingcough_39.wav', 'whoopingcough_50.wav', 'whoopingcough_28.wav', 'unknown_1366.wav', 'unknown_1367.wav'], '39': ['whoopingcough_40.wav', 'whoopingcough_20.wav', 'whoopingcough_30.wav', 'unknown_811.wav', 'unknown_420.wav'], '40': ['whoopingcough_41.wav', 'whoopingcough_46.wav', 'whoopingcough_7.wav', 'unknown_750.wav', 'unknown_576.wav'], '41': ['whoopingcough_42.wav', 'whoopingcough_3.wav', 'whoopingcough_55.wav', 'unknown_1064.wav', 'unknown_1268.wav'], '42': ['whoopingcough_43.wav', 'whoopingcough_40.wav', 'whoopingcough_55.wav', 'unknown_233.wav', 'unknown_410.wav'], '43': ['whoopingcough_44.wav', 'whoopingcough_3.wav', 'whoopingcough_60.wav', 'unknown_570.wav', 'unknown_974.wav'], '44': ['whoopingcough_45.wav', 'whoopingcough_26.wav', 'whoopingcough_9.wav', 'unknown_44.wav', 'unknown_821.wav'], '45': ['whoopingcough_46.wav', 'whoopingcough_3.wav', 'whoopingcough_51.wav', 'unknown_320.wav', 'unknown_492.wav'], '46': ['whoopingcough_47.wav', 'whoopingcough_50.wav', 'whoopingcough_32.wav', 'unknown_156.wav', 'unknown_10.wav'], '47': ['whoopingcough_48.wav', 'whoopingcough_29.wav', 'whoopingcough_58.wav', 'unknown_1072.wav', 'unknown_701.wav'], '48': ['whoopingcough_49.wav', 'whoopingcough_41.wav', 'whoopingcough_40.wav', 'unknown_1005.wav', 'unknown_1000.wav'], '49': ['whoopingcough_50.wav', 'whoopingcough_5.wav', 'whoopingcough_25.wav', 'unknown_120.wav', 'unknown_1409.wav'], '50': ['whoopingcough_51.wav', 'whoopingcough_7.wav', 'whoopingcough_31.wav', 'unknown_875.wav', 'unknown_1231.wav'], '51': ['whoopingcough_52.wav', 'whoopingcough_5.wav', 'whoopingcough_60.wav', 'unknown_13.wav', 'unknown_344.wav'], '52': ['whoopingcough_53.wav', 'whoopingcough_22.wav', 'whoopingcough_10.wav', 'unknown_1556.wav', 'unknown_679.wav'], '53': ['whoopingcough_54.wav', 'whoopingcough_2.wav', 'whoopingcough_33.wav', 'unknown_488.wav', 'unknown_1340.wav'], '54': ['whoopingcough_55.wav', 'whoopingcough_13.wav', 'whoopingcough_58.wav', 'unknown_1055.wav', 'unknown_128.wav'], '55': ['whoopingcough_56.wav', 'whoopingcough_40.wav', 'whoopingcough_9.wav', 'unknown_1110.wav', 'unknown_165.wav'], '56': ['whoopingcough_57.wav', 'whoopingcough_2.wav', 'whoopingcough_24.wav', 'unknown_1423.wav', 'unknown_1394.wav'], '57': ['whoopingcough_58.wav', 'whoopingcough_6.wav', 'whoopingcough_32.wav', 'unknown_31.wav', 'unknown_1125.wav'], '58': ['whoopingcough_59.wav', 'whoopingcough_52.wav', 'whoopingcough_12.wav', 'unknown_463.wav', 'unknown_1110.wav'], '59': ['whoopingcough_60.wav', 'whoopingcough_14.wav', 'whoopingcough_17.wav', 'unknown_1305.wav', 'unknown_1435.wav']}"
   ]
  },
  {
   "cell_type": "code",
   "execution_count": 8,
   "metadata": {},
   "outputs": [
    {
     "name": "stdout",
     "output_type": "stream",
     "text": [
      "(0, 6, 'barkingcough', 'nightwetcough')\n",
      "('whoopingcough_32.wav', 'whoopingcough_6.wav', 'whoopingcough_36.wav')\n"
     ]
    }
   ],
   "source": [
    "#label1:\n",
    "import random\n",
    "def set_support_label(index_label):\n",
    "    index_list = list(range(len(train_label)))\n",
    "#     print(index_label)\n",
    "    index_list.remove(index_label)\n",
    "#     print(index_list)\n",
    "    new_index_list = index_list\n",
    "    ix = random.choice(new_index_list)\n",
    "    label1 = train_label[index_label]\n",
    "    label2 = train_label[ix]\n",
    "    return index_label, ix, label1, label2\n",
    "\n",
    "\n",
    "def set_support_label2(index_label):\n",
    "    index_list = list(range(len(test_label)))\n",
    "#     print(index_label)\n",
    "    index_list.remove(index_label)\n",
    "#     print(index_list)\n",
    "    new_index_list = index_list\n",
    "    ix = random.choice(new_index_list)\n",
    "    label1 = test_label[index_label]\n",
    "    label2 = test_label[ix]\n",
    "    return index_label, ix, label1, label2\n",
    "\n",
    "def set_support_data(label, index_audio):\n",
    "#     if index_label == 0:\n",
    "#         index_label = 8\n",
    "#     else:\n",
    "#         index_label = 9\n",
    "    index_list = list(range(1, label_dict[label]+1))\n",
    "#     index = random.choice(index_list)\n",
    "    index_list.remove(index_audio)\n",
    "    new_index_list = index_list\n",
    "    ix = random.choice(new_index_list)\n",
    "    \n",
    "    new_index_list.remove(ix)\n",
    "    temp_list = new_index_list\n",
    "    ixx = random.choice(temp_list)\n",
    "    audio1 = label+'_'+str(index_audio)+'.wav'\n",
    "    audio2 = label+'_'+str(ix)+'.wav'\n",
    "    audio3 = label+'_'+str(ixx)+'.wav'\n",
    "    return audio1, audio2, audio3\n",
    "\n",
    "print(set_support_label(0))\n",
    "# print(list(range(len(train_label))))\n",
    "print(set_support_data(\"whoopingcough\", 32))"
   ]
  },
  {
   "cell_type": "code",
   "execution_count": 22,
   "metadata": {},
   "outputs": [],
   "source": [
    "query1, support1, labels1 = None, None, None"
   ]
  },
  {
   "cell_type": "code",
   "execution_count": 9,
   "metadata": {},
   "outputs": [],
   "source": [
    "import matplotlib.pyplot as plt\n",
    "import itertools\n",
    "from sklearn.metrics import classification_report, confusion_matrix\n",
    "def plot_confusion_matrix(cm, classes,\n",
    "                          normalize=False,\n",
    "                          title='Confusion matrix',\n",
    "                          cmap=plt.cm.Blues):\n",
    "    \"\"\"\n",
    "    This function prints and plots the confusion matrix.\n",
    "    Normalization can be applied by setting `normalize=True`.\n",
    "    \"\"\"\n",
    "    if normalize:\n",
    "        cm = cm.astype('float') / cm.sum(axis=1, keepdims = True)\n",
    "\n",
    "    plt.imshow(cm, interpolation='nearest', cmap=cmap)\n",
    "    plt.title(title)\n",
    "    plt.colorbar()\n",
    "    tick_marks = np.arange(len(classes))\n",
    "    plt.xticks(tick_marks, classes, rotation=45)\n",
    "    plt.yticks(tick_marks, classes)\n",
    "\n",
    "    fmt = '.2f' if normalize else 'd'\n",
    "    thresh = cm.max() / 2.\n",
    "    for i, j in itertools.product(range(cm.shape[0]), range(cm.shape[1])):\n",
    "        plt.text(j, i, format(cm[i, j], fmt),\n",
    "                 horizontalalignment=\"center\",\n",
    "                 color=\"white\" if cm[i, j] > thresh else \"black\")\n",
    "\n",
    "    plt.tight_layout()\n",
    "    plt.ylabel('True label')\n",
    "    plt.xlabel('Predicted label')"
   ]
  },
  {
   "cell_type": "code",
   "execution_count": 40,
   "metadata": {},
   "outputs": [
    {
     "name": "stdout",
     "output_type": "stream",
     "text": [
      "['a', 'c']\n"
     ]
    }
   ],
   "source": [
    "data = ['a', 'b', 'c']\n",
    "data.remove(data[1])\n",
    "print(data)"
   ]
  },
  {
   "cell_type": "code",
   "execution_count": 10,
   "metadata": {},
   "outputs": [],
   "source": [
    "#PREPARE DATA\n",
    "from numpy.random import choice\n",
    "cough_dataset = '/content/drive/MyDrive/cough_detection/cough_data/mono_test'\n",
    "cough_dataset = \"D:\\\\HoangNgan\\\\ThucTap\\\\Cough_data_Tuan1\\\\mono\"\n",
    "\n",
    "def sup_que(num_sup, que, sup):\n",
    "    '''create few-shot tasks: \n",
    "   a few-shot task: [query, same_label_support1, same_label_support2, different_label_support1, different_label_support2]\n",
    "   this function creates 60 tasks for each label'''\n",
    "    check_data = {}\n",
    "    \n",
    "    \n",
    "    class_set =  os.path.join(cough_dataset, que)\n",
    "    data = os.listdir(class_set)\n",
    "    len_data = len(data)\n",
    "#     print(len_data)\n",
    "    count = 0\n",
    "    for index in range(60):\n",
    "#         print(index)\n",
    "        data = os.listdir(class_set)\n",
    "        i = 0\n",
    "        query = data[index]\n",
    "        query_set = []\n",
    "        query_set.append(query)\n",
    "        data.remove(data[index])\n",
    "#         print(index)\n",
    "        support_set = []\n",
    "        query_list = choice(data,size=(num_sup),replace=False)\n",
    "        for q in query_list:\n",
    "            query_set.append(q)\n",
    "        \n",
    "\n",
    "        i = i+1\n",
    "        class_set_next =  os.path.join(cough_dataset, sup)\n",
    "        data_next = os.listdir(class_set_next)\n",
    "        support_set = choice(data_next,size=(num_sup),replace=False)\n",
    "\n",
    "        check_data[str(count)] = list(query_set) + list(support_set)\n",
    "        count += 1\n",
    "    # if count == 5:\n",
    "    #   temp = que\n",
    "    #   que = sup\n",
    "    #   sup = temp\n",
    "\n",
    "  # print(check_data)\n",
    "    return check_data\n",
    "  \n",
    "\n",
    "    "
   ]
  },
  {
   "cell_type": "code",
   "execution_count": 15,
   "metadata": {},
   "outputs": [],
   "source": [
    "train_data = ['springallergycoughing',\n",
    "'dryafternooncough',\n",
    "'coughingupcrapagain',\n",
    "'gaggywetcough',\n",
    "'chestyandwetcough',\n",
    "'barkingcough',\n",
    "'nightwetcough',\n",
    "'heavycoldandsorethroatcoughing']\n",
    "test_data = ['whoopingcough', 'unknown']"
   ]
  },
  {
   "cell_type": "code",
   "execution_count": 88,
   "metadata": {},
   "outputs": [
    {
     "name": "stdout",
     "output_type": "stream",
     "text": [
      "{'0': ['unknown_1.wav', 'unknown_956.wav', 'unknown_563.wav', 'whoopingcough_7.wav', 'whoopingcough_33.wav'], '1': ['unknown_10.wav', 'unknown_1081.wav', 'unknown_255.wav', 'whoopingcough_24.wav', 'whoopingcough_21.wav'], '2': ['unknown_100.wav', 'unknown_160.wav', 'unknown_1070.wav', 'whoopingcough_48.wav', 'whoopingcough_30.wav'], '3': ['unknown_1000.wav', 'unknown_389.wav', 'unknown_207.wav', 'whoopingcough_14.wav', 'whoopingcough_31.wav'], '4': ['unknown_1001.wav', 'unknown_207.wav', 'unknown_643.wav', 'whoopingcough_51.wav', 'whoopingcough_56.wav'], '5': ['unknown_1002.wav', 'unknown_208.wav', 'unknown_1402.wav', 'whoopingcough_36.wav', 'whoopingcough_8.wav'], '6': ['unknown_1003.wav', 'unknown_216.wav', 'unknown_823.wav', 'whoopingcough_2.wav', 'whoopingcough_33.wav'], '7': ['unknown_1004.wav', 'unknown_892.wav', 'unknown_574.wav', 'whoopingcough_18.wav', 'whoopingcough_9.wav'], '8': ['unknown_1005.wav', 'unknown_1217.wav', 'unknown_905.wav', 'whoopingcough_16.wav', 'whoopingcough_9.wav'], '9': ['unknown_1006.wav', 'unknown_1477.wav', 'unknown_642.wav', 'whoopingcough_43.wav', 'whoopingcough_20.wav'], '10': ['unknown_1007.wav', 'unknown_1557.wav', 'unknown_391.wav', 'whoopingcough_57.wav', 'whoopingcough_1.wav'], '11': ['unknown_1008.wav', 'unknown_199.wav', 'unknown_348.wav', 'whoopingcough_34.wav', 'whoopingcough_11.wav'], '12': ['unknown_1009.wav', 'unknown_536.wav', 'unknown_974.wav', 'whoopingcough_47.wav', 'whoopingcough_57.wav'], '13': ['unknown_101.wav', 'unknown_760.wav', 'unknown_678.wav', 'whoopingcough_43.wav', 'whoopingcough_18.wav'], '14': ['unknown_1010.wav', 'unknown_1155.wav', 'unknown_484.wav', 'whoopingcough_36.wav', 'whoopingcough_41.wav'], '15': ['unknown_1011.wav', 'unknown_857.wav', 'unknown_427.wav', 'whoopingcough_21.wav', 'whoopingcough_1.wav'], '16': ['unknown_1012.wav', 'unknown_1183.wav', 'unknown_854.wav', 'whoopingcough_16.wav', 'whoopingcough_40.wav'], '17': ['unknown_1013.wav', 'unknown_845.wav', 'unknown_163.wav', 'whoopingcough_7.wav', 'whoopingcough_47.wav'], '18': ['unknown_1014.wav', 'unknown_579.wav', 'unknown_372.wav', 'whoopingcough_4.wav', 'whoopingcough_51.wav'], '19': ['unknown_1015.wav', 'unknown_934.wav', 'unknown_1419.wav', 'whoopingcough_38.wav', 'whoopingcough_36.wav'], '20': ['unknown_1016.wav', 'unknown_1386.wav', 'unknown_1287.wav', 'whoopingcough_9.wav', 'whoopingcough_43.wav'], '21': ['unknown_1017.wav', 'unknown_825.wav', 'unknown_1367.wav', 'whoopingcough_57.wav', 'whoopingcough_43.wav'], '22': ['unknown_1018.wav', 'unknown_1069.wav', 'unknown_946.wav', 'whoopingcough_5.wav', 'whoopingcough_46.wav'], '23': ['unknown_1019.wav', 'unknown_223.wav', 'unknown_1158.wav', 'whoopingcough_35.wav', 'whoopingcough_55.wav'], '24': ['unknown_102.wav', 'unknown_233.wav', 'unknown_656.wav', 'whoopingcough_39.wav', 'whoopingcough_15.wav'], '25': ['unknown_1020.wav', 'unknown_292.wav', 'unknown_582.wav', 'whoopingcough_6.wav', 'whoopingcough_19.wav'], '26': ['unknown_1021.wav', 'unknown_816.wav', 'unknown_72.wav', 'whoopingcough_9.wav', 'whoopingcough_51.wav'], '27': ['unknown_1022.wav', 'unknown_1093.wav', 'unknown_1471.wav', 'whoopingcough_45.wav', 'whoopingcough_6.wav'], '28': ['unknown_1023.wav', 'unknown_655.wav', 'unknown_1161.wav', 'whoopingcough_31.wav', 'whoopingcough_13.wav'], '29': ['unknown_1024.wav', 'unknown_467.wav', 'unknown_1053.wav', 'whoopingcough_8.wav', 'whoopingcough_4.wav'], '30': ['unknown_1025.wav', 'unknown_725.wav', 'unknown_493.wav', 'whoopingcough_55.wav', 'whoopingcough_2.wav'], '31': ['unknown_1026.wav', 'unknown_1340.wav', 'unknown_1310.wav', 'whoopingcough_38.wav', 'whoopingcough_46.wav'], '32': ['unknown_1027.wav', 'unknown_162.wav', 'unknown_87.wav', 'whoopingcough_30.wav', 'whoopingcough_43.wav'], '33': ['unknown_1028.wav', 'unknown_396.wav', 'unknown_1380.wav', 'whoopingcough_39.wav', 'whoopingcough_2.wav'], '34': ['unknown_1029.wav', 'unknown_559.wav', 'unknown_710.wav', 'whoopingcough_38.wav', 'whoopingcough_12.wav'], '35': ['unknown_103.wav', 'unknown_62.wav', 'unknown_760.wav', 'whoopingcough_26.wav', 'whoopingcough_48.wav'], '36': ['unknown_1030.wav', 'unknown_106.wav', 'unknown_1326.wav', 'whoopingcough_23.wav', 'whoopingcough_10.wav'], '37': ['unknown_1031.wav', 'unknown_328.wav', 'unknown_71.wav', 'whoopingcough_31.wav', 'whoopingcough_3.wav'], '38': ['unknown_1032.wav', 'unknown_1443.wav', 'unknown_719.wav', 'whoopingcough_3.wav', 'whoopingcough_6.wav'], '39': ['unknown_1033.wav', 'unknown_1114.wav', 'unknown_474.wav', 'whoopingcough_30.wav', 'whoopingcough_13.wav'], '40': ['unknown_1034.wav', 'unknown_954.wav', 'unknown_279.wav', 'whoopingcough_54.wav', 'whoopingcough_55.wav'], '41': ['unknown_1035.wav', 'unknown_1474.wav', 'unknown_199.wav', 'whoopingcough_60.wav', 'whoopingcough_33.wav'], '42': ['unknown_1036.wav', 'unknown_330.wav', 'unknown_1158.wav', 'whoopingcough_11.wav', 'whoopingcough_22.wav'], '43': ['unknown_1037.wav', 'unknown_459.wav', 'unknown_468.wav', 'whoopingcough_3.wav', 'whoopingcough_29.wav'], '44': ['unknown_1038.wav', 'unknown_1266.wav', 'unknown_46.wav', 'whoopingcough_26.wav', 'whoopingcough_31.wav'], '45': ['unknown_1039.wav', 'unknown_1265.wav', 'unknown_1095.wav', 'whoopingcough_7.wav', 'whoopingcough_23.wav'], '46': ['unknown_104.wav', 'unknown_1550.wav', 'unknown_875.wav', 'whoopingcough_46.wav', 'whoopingcough_52.wav'], '47': ['unknown_1040.wav', 'unknown_516.wav', 'unknown_421.wav', 'whoopingcough_23.wav', 'whoopingcough_48.wav'], '48': ['unknown_1041.wav', 'unknown_962.wav', 'unknown_1272.wav', 'whoopingcough_56.wav', 'whoopingcough_1.wav'], '49': ['unknown_1042.wav', 'unknown_130.wav', 'unknown_1005.wav', 'whoopingcough_19.wav', 'whoopingcough_17.wav'], '50': ['unknown_1043.wav', 'unknown_665.wav', 'unknown_80.wav', 'whoopingcough_55.wav', 'whoopingcough_23.wav'], '51': ['unknown_1044.wav', 'unknown_915.wav', 'unknown_98.wav', 'whoopingcough_43.wav', 'whoopingcough_41.wav'], '52': ['unknown_1045.wav', 'unknown_1524.wav', 'unknown_1257.wav', 'whoopingcough_50.wav', 'whoopingcough_31.wav'], '53': ['unknown_1046.wav', 'unknown_779.wav', 'unknown_1389.wav', 'whoopingcough_5.wav', 'whoopingcough_48.wav'], '54': ['unknown_1047.wav', 'unknown_1551.wav', 'unknown_365.wav', 'whoopingcough_13.wav', 'whoopingcough_45.wav'], '55': ['unknown_1048.wav', 'unknown_1307.wav', 'unknown_1554.wav', 'whoopingcough_28.wav', 'whoopingcough_38.wav'], '56': ['unknown_1049.wav', 'unknown_1467.wav', 'unknown_1020.wav', 'whoopingcough_31.wav', 'whoopingcough_35.wav'], '57': ['unknown_105.wav', 'unknown_1081.wav', 'unknown_939.wav', 'whoopingcough_16.wav', 'whoopingcough_47.wav'], '58': ['unknown_1050.wav', 'unknown_877.wav', 'unknown_599.wav', 'whoopingcough_20.wav', 'whoopingcough_33.wav'], '59': ['unknown_1051.wav', 'unknown_927.wav', 'unknown_51.wav', 'whoopingcough_7.wav', 'whoopingcough_3.wav']}\n"
     ]
    }
   ],
   "source": [
    "way2shot2_unk= sup_que(2, test_data[1], test_data[0])\n",
    "way2shot2_wh = sup_que(2, test_data[0], test_data[1])\n",
    "print(way2shot2_unk)"
   ]
  },
  {
   "cell_type": "code",
   "execution_count": 11,
   "metadata": {},
   "outputs": [],
   "source": [
    "way2shot2_unk = {'0': ['unknown_1.wav', 'unknown_956.wav', 'unknown_563.wav', 'whoopingcough_7.wav', 'whoopingcough_33.wav'], '1': ['unknown_10.wav', 'unknown_1081.wav', 'unknown_255.wav', 'whoopingcough_24.wav', 'whoopingcough_21.wav'], '2': ['unknown_100.wav', 'unknown_160.wav', 'unknown_1070.wav', 'whoopingcough_48.wav', 'whoopingcough_30.wav'], '3': ['unknown_1000.wav', 'unknown_389.wav', 'unknown_207.wav', 'whoopingcough_14.wav', 'whoopingcough_31.wav'], '4': ['unknown_1001.wav', 'unknown_207.wav', 'unknown_643.wav', 'whoopingcough_51.wav', 'whoopingcough_56.wav'], '5': ['unknown_1002.wav', 'unknown_208.wav', 'unknown_1402.wav', 'whoopingcough_36.wav', 'whoopingcough_8.wav'], '6': ['unknown_1003.wav', 'unknown_216.wav', 'unknown_823.wav', 'whoopingcough_2.wav', 'whoopingcough_33.wav'], '7': ['unknown_1004.wav', 'unknown_892.wav', 'unknown_574.wav', 'whoopingcough_18.wav', 'whoopingcough_9.wav'], '8': ['unknown_1005.wav', 'unknown_1217.wav', 'unknown_905.wav', 'whoopingcough_16.wav', 'whoopingcough_9.wav'], '9': ['unknown_1006.wav', 'unknown_1477.wav', 'unknown_642.wav', 'whoopingcough_43.wav', 'whoopingcough_20.wav'], '10': ['unknown_1007.wav', 'unknown_1557.wav', 'unknown_391.wav', 'whoopingcough_57.wav', 'whoopingcough_1.wav'], '11': ['unknown_1008.wav', 'unknown_199.wav', 'unknown_348.wav', 'whoopingcough_34.wav', 'whoopingcough_11.wav'], '12': ['unknown_1009.wav', 'unknown_536.wav', 'unknown_974.wav', 'whoopingcough_47.wav', 'whoopingcough_57.wav'], '13': ['unknown_101.wav', 'unknown_760.wav', 'unknown_678.wav', 'whoopingcough_43.wav', 'whoopingcough_18.wav'], '14': ['unknown_1010.wav', 'unknown_1155.wav', 'unknown_484.wav', 'whoopingcough_36.wav', 'whoopingcough_41.wav'], '15': ['unknown_1011.wav', 'unknown_857.wav', 'unknown_427.wav', 'whoopingcough_21.wav', 'whoopingcough_1.wav'], '16': ['unknown_1012.wav', 'unknown_1183.wav', 'unknown_854.wav', 'whoopingcough_16.wav', 'whoopingcough_40.wav'], '17': ['unknown_1013.wav', 'unknown_845.wav', 'unknown_163.wav', 'whoopingcough_7.wav', 'whoopingcough_47.wav'], '18': ['unknown_1014.wav', 'unknown_579.wav', 'unknown_372.wav', 'whoopingcough_4.wav', 'whoopingcough_51.wav'], '19': ['unknown_1015.wav', 'unknown_934.wav', 'unknown_1419.wav', 'whoopingcough_38.wav', 'whoopingcough_36.wav'], '20': ['unknown_1016.wav', 'unknown_1386.wav', 'unknown_1287.wav', 'whoopingcough_9.wav', 'whoopingcough_43.wav'], '21': ['unknown_1017.wav', 'unknown_825.wav', 'unknown_1367.wav', 'whoopingcough_57.wav', 'whoopingcough_43.wav'], '22': ['unknown_1018.wav', 'unknown_1069.wav', 'unknown_946.wav', 'whoopingcough_5.wav', 'whoopingcough_46.wav'], '23': ['unknown_1019.wav', 'unknown_223.wav', 'unknown_1158.wav', 'whoopingcough_35.wav', 'whoopingcough_55.wav'], '24': ['unknown_102.wav', 'unknown_233.wav', 'unknown_656.wav', 'whoopingcough_39.wav', 'whoopingcough_15.wav'], '25': ['unknown_1020.wav', 'unknown_292.wav', 'unknown_582.wav', 'whoopingcough_6.wav', 'whoopingcough_19.wav'], '26': ['unknown_1021.wav', 'unknown_816.wav', 'unknown_72.wav', 'whoopingcough_9.wav', 'whoopingcough_51.wav'], '27': ['unknown_1022.wav', 'unknown_1093.wav', 'unknown_1471.wav', 'whoopingcough_45.wav', 'whoopingcough_6.wav'], '28': ['unknown_1023.wav', 'unknown_655.wav', 'unknown_1161.wav', 'whoopingcough_31.wav', 'whoopingcough_13.wav'], '29': ['unknown_1024.wav', 'unknown_467.wav', 'unknown_1053.wav', 'whoopingcough_8.wav', 'whoopingcough_4.wav'], '30': ['unknown_1025.wav', 'unknown_725.wav', 'unknown_493.wav', 'whoopingcough_55.wav', 'whoopingcough_2.wav'], '31': ['unknown_1026.wav', 'unknown_1340.wav', 'unknown_1310.wav', 'whoopingcough_38.wav', 'whoopingcough_46.wav'], '32': ['unknown_1027.wav', 'unknown_162.wav', 'unknown_87.wav', 'whoopingcough_30.wav', 'whoopingcough_43.wav'], '33': ['unknown_1028.wav', 'unknown_396.wav', 'unknown_1380.wav', 'whoopingcough_39.wav', 'whoopingcough_2.wav'], '34': ['unknown_1029.wav', 'unknown_559.wav', 'unknown_710.wav', 'whoopingcough_38.wav', 'whoopingcough_12.wav'], '35': ['unknown_103.wav', 'unknown_62.wav', 'unknown_760.wav', 'whoopingcough_26.wav', 'whoopingcough_48.wav'], '36': ['unknown_1030.wav', 'unknown_106.wav', 'unknown_1326.wav', 'whoopingcough_23.wav', 'whoopingcough_10.wav'], '37': ['unknown_1031.wav', 'unknown_328.wav', 'unknown_71.wav', 'whoopingcough_31.wav', 'whoopingcough_3.wav'], '38': ['unknown_1032.wav', 'unknown_1443.wav', 'unknown_719.wav', 'whoopingcough_3.wav', 'whoopingcough_6.wav'], '39': ['unknown_1033.wav', 'unknown_1114.wav', 'unknown_474.wav', 'whoopingcough_30.wav', 'whoopingcough_13.wav'], '40': ['unknown_1034.wav', 'unknown_954.wav', 'unknown_279.wav', 'whoopingcough_54.wav', 'whoopingcough_55.wav'], '41': ['unknown_1035.wav', 'unknown_1474.wav', 'unknown_199.wav', 'whoopingcough_60.wav', 'whoopingcough_33.wav'], '42': ['unknown_1036.wav', 'unknown_330.wav', 'unknown_1158.wav', 'whoopingcough_11.wav', 'whoopingcough_22.wav'], '43': ['unknown_1037.wav', 'unknown_459.wav', 'unknown_468.wav', 'whoopingcough_3.wav', 'whoopingcough_29.wav'], '44': ['unknown_1038.wav', 'unknown_1266.wav', 'unknown_46.wav', 'whoopingcough_26.wav', 'whoopingcough_31.wav'], '45': ['unknown_1039.wav', 'unknown_1265.wav', 'unknown_1095.wav', 'whoopingcough_7.wav', 'whoopingcough_23.wav'], '46': ['unknown_104.wav', 'unknown_1550.wav', 'unknown_875.wav', 'whoopingcough_46.wav', 'whoopingcough_52.wav'], '47': ['unknown_1040.wav', 'unknown_516.wav', 'unknown_421.wav', 'whoopingcough_23.wav', 'whoopingcough_48.wav'], '48': ['unknown_1041.wav', 'unknown_962.wav', 'unknown_1272.wav', 'whoopingcough_56.wav', 'whoopingcough_1.wav'], '49': ['unknown_1042.wav', 'unknown_130.wav', 'unknown_1005.wav', 'whoopingcough_19.wav', 'whoopingcough_17.wav'], '50': ['unknown_1043.wav', 'unknown_665.wav', 'unknown_80.wav', 'whoopingcough_55.wav', 'whoopingcough_23.wav'], '51': ['unknown_1044.wav', 'unknown_915.wav', 'unknown_98.wav', 'whoopingcough_43.wav', 'whoopingcough_41.wav'], '52': ['unknown_1045.wav', 'unknown_1524.wav', 'unknown_1257.wav', 'whoopingcough_50.wav', 'whoopingcough_31.wav'], '53': ['unknown_1046.wav', 'unknown_779.wav', 'unknown_1389.wav', 'whoopingcough_5.wav', 'whoopingcough_48.wav'], '54': ['unknown_1047.wav', 'unknown_1551.wav', 'unknown_365.wav', 'whoopingcough_13.wav', 'whoopingcough_45.wav'], '55': ['unknown_1048.wav', 'unknown_1307.wav', 'unknown_1554.wav', 'whoopingcough_28.wav', 'whoopingcough_38.wav'], '56': ['unknown_1049.wav', 'unknown_1467.wav', 'unknown_1020.wav', 'whoopingcough_31.wav', 'whoopingcough_35.wav'], '57': ['unknown_105.wav', 'unknown_1081.wav', 'unknown_939.wav', 'whoopingcough_16.wav', 'whoopingcough_47.wav'], '58': ['unknown_1050.wav', 'unknown_877.wav', 'unknown_599.wav', 'whoopingcough_20.wav', 'whoopingcough_33.wav'], '59': ['unknown_1051.wav', 'unknown_927.wav', 'unknown_51.wav', 'whoopingcough_7.wav', 'whoopingcough_3.wav']}"
   ]
  },
  {
   "cell_type": "code",
   "execution_count": 89,
   "metadata": {},
   "outputs": [
    {
     "name": "stdout",
     "output_type": "stream",
     "text": [
      "{'0': ['whoopingcough_1.wav', 'whoopingcough_57.wav', 'whoopingcough_27.wav', 'unknown_369.wav', 'unknown_375.wav'], '1': ['whoopingcough_10.wav', 'whoopingcough_44.wav', 'whoopingcough_42.wav', 'unknown_1081.wav', 'unknown_237.wav'], '2': ['whoopingcough_11.wav', 'whoopingcough_29.wav', 'whoopingcough_57.wav', 'unknown_494.wav', 'unknown_1099.wav'], '3': ['whoopingcough_12.wav', 'whoopingcough_24.wav', 'whoopingcough_20.wav', 'unknown_730.wav', 'unknown_172.wav'], '4': ['whoopingcough_13.wav', 'whoopingcough_49.wav', 'whoopingcough_35.wav', 'unknown_168.wav', 'unknown_1258.wav'], '5': ['whoopingcough_14.wav', 'whoopingcough_9.wav', 'whoopingcough_57.wav', 'unknown_1238.wav', 'unknown_1490.wav'], '6': ['whoopingcough_15.wav', 'whoopingcough_31.wav', 'whoopingcough_46.wav', 'unknown_1133.wav', 'unknown_630.wav'], '7': ['whoopingcough_16.wav', 'whoopingcough_4.wav', 'whoopingcough_29.wav', 'unknown_287.wav', 'unknown_987.wav'], '8': ['whoopingcough_17.wav', 'whoopingcough_11.wav', 'whoopingcough_24.wav', 'unknown_1282.wav', 'unknown_1336.wav'], '9': ['whoopingcough_18.wav', 'whoopingcough_27.wav', 'whoopingcough_51.wav', 'unknown_80.wav', 'unknown_1520.wav'], '10': ['whoopingcough_19.wav', 'whoopingcough_34.wav', 'whoopingcough_42.wav', 'unknown_292.wav', 'unknown_723.wav'], '11': ['whoopingcough_2.wav', 'whoopingcough_55.wav', 'whoopingcough_46.wav', 'unknown_1286.wav', 'unknown_236.wav'], '12': ['whoopingcough_20.wav', 'whoopingcough_14.wav', 'whoopingcough_38.wav', 'unknown_377.wav', 'unknown_1513.wav'], '13': ['whoopingcough_21.wav', 'whoopingcough_54.wav', 'whoopingcough_31.wav', 'unknown_1218.wav', 'unknown_1402.wav'], '14': ['whoopingcough_22.wav', 'whoopingcough_29.wav', 'whoopingcough_27.wav', 'unknown_1100.wav', 'unknown_58.wav'], '15': ['whoopingcough_23.wav', 'whoopingcough_22.wav', 'whoopingcough_38.wav', 'unknown_670.wav', 'unknown_555.wav'], '16': ['whoopingcough_24.wav', 'whoopingcough_17.wav', 'whoopingcough_22.wav', 'unknown_1250.wav', 'unknown_1223.wav'], '17': ['whoopingcough_25.wav', 'whoopingcough_19.wav', 'whoopingcough_5.wav', 'unknown_242.wav', 'unknown_973.wav'], '18': ['whoopingcough_26.wav', 'whoopingcough_29.wav', 'whoopingcough_14.wav', 'unknown_476.wav', 'unknown_1126.wav'], '19': ['whoopingcough_27.wav', 'whoopingcough_19.wav', 'whoopingcough_7.wav', 'unknown_599.wav', 'unknown_218.wav'], '20': ['whoopingcough_28.wav', 'whoopingcough_38.wav', 'whoopingcough_5.wav', 'unknown_938.wav', 'unknown_1261.wav'], '21': ['whoopingcough_29.wav', 'whoopingcough_15.wav', 'whoopingcough_8.wav', 'unknown_974.wav', 'unknown_1263.wav'], '22': ['whoopingcough_3.wav', 'whoopingcough_60.wav', 'whoopingcough_34.wav', 'unknown_310.wav', 'unknown_717.wav'], '23': ['whoopingcough_30.wav', 'whoopingcough_27.wav', 'whoopingcough_29.wav', 'unknown_333.wav', 'unknown_185.wav'], '24': ['whoopingcough_31.wav', 'whoopingcough_53.wav', 'whoopingcough_43.wav', 'unknown_1516.wav', 'unknown_948.wav'], '25': ['whoopingcough_32.wav', 'whoopingcough_53.wav', 'whoopingcough_5.wav', 'unknown_979.wav', 'unknown_1348.wav'], '26': ['whoopingcough_33.wav', 'whoopingcough_19.wav', 'whoopingcough_26.wav', 'unknown_1401.wav', 'unknown_1100.wav'], '27': ['whoopingcough_34.wav', 'whoopingcough_13.wav', 'whoopingcough_56.wav', 'unknown_820.wav', 'unknown_631.wav'], '28': ['whoopingcough_35.wav', 'whoopingcough_4.wav', 'whoopingcough_44.wav', 'unknown_384.wav', 'unknown_1203.wav'], '29': ['whoopingcough_36.wav', 'whoopingcough_29.wav', 'whoopingcough_47.wav', 'unknown_1527.wav', 'unknown_636.wav'], '30': ['whoopingcough_37.wav', 'whoopingcough_19.wav', 'whoopingcough_26.wav', 'unknown_309.wav', 'unknown_582.wav'], '31': ['whoopingcough_38.wav', 'whoopingcough_43.wav', 'whoopingcough_29.wav', 'unknown_969.wav', 'unknown_1557.wav'], '32': ['whoopingcough_39.wav', 'whoopingcough_57.wav', 'whoopingcough_45.wav', 'unknown_1469.wav', 'unknown_1194.wav'], '33': ['whoopingcough_4.wav', 'whoopingcough_43.wav', 'whoopingcough_7.wav', 'unknown_187.wav', 'unknown_486.wav'], '34': ['whoopingcough_40.wav', 'whoopingcough_47.wav', 'whoopingcough_1.wav', 'unknown_380.wav', 'unknown_1446.wav'], '35': ['whoopingcough_41.wav', 'whoopingcough_50.wav', 'whoopingcough_6.wav', 'unknown_633.wav', 'unknown_1430.wav'], '36': ['whoopingcough_42.wav', 'whoopingcough_45.wav', 'whoopingcough_51.wav', 'unknown_288.wav', 'unknown_726.wav'], '37': ['whoopingcough_43.wav', 'whoopingcough_35.wav', 'whoopingcough_22.wav', 'unknown_333.wav', 'unknown_1438.wav'], '38': ['whoopingcough_44.wav', 'whoopingcough_30.wav', 'whoopingcough_12.wav', 'unknown_625.wav', 'unknown_1226.wav'], '39': ['whoopingcough_45.wav', 'whoopingcough_8.wav', 'whoopingcough_52.wav', 'unknown_228.wav', 'unknown_49.wav'], '40': ['whoopingcough_46.wav', 'whoopingcough_49.wav', 'whoopingcough_48.wav', 'unknown_1253.wav', 'unknown_865.wav'], '41': ['whoopingcough_47.wav', 'whoopingcough_51.wav', 'whoopingcough_38.wav', 'unknown_73.wav', 'unknown_813.wav'], '42': ['whoopingcough_48.wav', 'whoopingcough_57.wav', 'whoopingcough_33.wav', 'unknown_703.wav', 'unknown_883.wav'], '43': ['whoopingcough_49.wav', 'whoopingcough_27.wav', 'whoopingcough_13.wav', 'unknown_1368.wav', 'unknown_125.wav'], '44': ['whoopingcough_5.wav', 'whoopingcough_18.wav', 'whoopingcough_32.wav', 'unknown_679.wav', 'unknown_752.wav'], '45': ['whoopingcough_50.wav', 'whoopingcough_54.wav', 'whoopingcough_24.wav', 'unknown_1425.wav', 'unknown_1064.wav'], '46': ['whoopingcough_51.wav', 'whoopingcough_60.wav', 'whoopingcough_52.wav', 'unknown_808.wav', 'unknown_546.wav'], '47': ['whoopingcough_52.wav', 'whoopingcough_53.wav', 'whoopingcough_28.wav', 'unknown_427.wav', 'unknown_742.wav'], '48': ['whoopingcough_53.wav', 'whoopingcough_45.wav', 'whoopingcough_8.wav', 'unknown_441.wav', 'unknown_580.wav'], '49': ['whoopingcough_54.wav', 'whoopingcough_18.wav', 'whoopingcough_56.wav', 'unknown_1343.wav', 'unknown_1539.wav'], '50': ['whoopingcough_55.wav', 'whoopingcough_1.wav', 'whoopingcough_21.wav', 'unknown_677.wav', 'unknown_1153.wav'], '51': ['whoopingcough_56.wav', 'whoopingcough_19.wav', 'whoopingcough_38.wav', 'unknown_732.wav', 'unknown_1104.wav'], '52': ['whoopingcough_57.wav', 'whoopingcough_2.wav', 'whoopingcough_38.wav', 'unknown_590.wav', 'unknown_25.wav'], '53': ['whoopingcough_58.wav', 'whoopingcough_5.wav', 'whoopingcough_28.wav', 'unknown_1218.wav', 'unknown_399.wav'], '54': ['whoopingcough_59.wav', 'whoopingcough_31.wav', 'whoopingcough_8.wav', 'unknown_645.wav', 'unknown_461.wav'], '55': ['whoopingcough_6.wav', 'whoopingcough_35.wav', 'whoopingcough_44.wav', 'unknown_40.wav', 'unknown_1281.wav'], '56': ['whoopingcough_60.wav', 'whoopingcough_55.wav', 'whoopingcough_58.wav', 'unknown_997.wav', 'unknown_1223.wav'], '57': ['whoopingcough_7.wav', 'whoopingcough_27.wav', 'whoopingcough_45.wav', 'unknown_291.wav', 'unknown_773.wav'], '58': ['whoopingcough_8.wav', 'whoopingcough_21.wav', 'whoopingcough_47.wav', 'unknown_2.wav', 'unknown_945.wav'], '59': ['whoopingcough_9.wav', 'whoopingcough_52.wav', 'whoopingcough_6.wav', 'unknown_1259.wav', 'unknown_1477.wav']}\n"
     ]
    }
   ],
   "source": [
    "way2shot2_wh = sup_que(2, test_data[0], test_data[1])\n",
    "print(way2shot2_wh)"
   ]
  },
  {
   "cell_type": "code",
   "execution_count": 12,
   "metadata": {},
   "outputs": [],
   "source": [
    "way2shot2_wh = {'0': ['whoopingcough_1.wav', 'whoopingcough_57.wav', 'whoopingcough_27.wav', 'unknown_369.wav', 'unknown_375.wav'], '1': ['whoopingcough_10.wav', 'whoopingcough_44.wav', 'whoopingcough_42.wav', 'unknown_1081.wav', 'unknown_237.wav'], '2': ['whoopingcough_11.wav', 'whoopingcough_29.wav', 'whoopingcough_57.wav', 'unknown_494.wav', 'unknown_1099.wav'], '3': ['whoopingcough_12.wav', 'whoopingcough_24.wav', 'whoopingcough_20.wav', 'unknown_730.wav', 'unknown_172.wav'], '4': ['whoopingcough_13.wav', 'whoopingcough_49.wav', 'whoopingcough_35.wav', 'unknown_168.wav', 'unknown_1258.wav'], '5': ['whoopingcough_14.wav', 'whoopingcough_9.wav', 'whoopingcough_57.wav', 'unknown_1238.wav', 'unknown_1490.wav'], '6': ['whoopingcough_15.wav', 'whoopingcough_31.wav', 'whoopingcough_46.wav', 'unknown_1133.wav', 'unknown_630.wav'], '7': ['whoopingcough_16.wav', 'whoopingcough_4.wav', 'whoopingcough_29.wav', 'unknown_287.wav', 'unknown_987.wav'], '8': ['whoopingcough_17.wav', 'whoopingcough_11.wav', 'whoopingcough_24.wav', 'unknown_1282.wav', 'unknown_1336.wav'], '9': ['whoopingcough_18.wav', 'whoopingcough_27.wav', 'whoopingcough_51.wav', 'unknown_80.wav', 'unknown_1520.wav'], '10': ['whoopingcough_19.wav', 'whoopingcough_34.wav', 'whoopingcough_42.wav', 'unknown_292.wav', 'unknown_723.wav'], '11': ['whoopingcough_2.wav', 'whoopingcough_55.wav', 'whoopingcough_46.wav', 'unknown_1286.wav', 'unknown_236.wav'], '12': ['whoopingcough_20.wav', 'whoopingcough_14.wav', 'whoopingcough_38.wav', 'unknown_377.wav', 'unknown_1513.wav'], '13': ['whoopingcough_21.wav', 'whoopingcough_54.wav', 'whoopingcough_31.wav', 'unknown_1218.wav', 'unknown_1402.wav'], '14': ['whoopingcough_22.wav', 'whoopingcough_29.wav', 'whoopingcough_27.wav', 'unknown_1100.wav', 'unknown_58.wav'], '15': ['whoopingcough_23.wav', 'whoopingcough_22.wav', 'whoopingcough_38.wav', 'unknown_670.wav', 'unknown_555.wav'], '16': ['whoopingcough_24.wav', 'whoopingcough_17.wav', 'whoopingcough_22.wav', 'unknown_1250.wav', 'unknown_1223.wav'], '17': ['whoopingcough_25.wav', 'whoopingcough_19.wav', 'whoopingcough_5.wav', 'unknown_242.wav', 'unknown_973.wav'], '18': ['whoopingcough_26.wav', 'whoopingcough_29.wav', 'whoopingcough_14.wav', 'unknown_476.wav', 'unknown_1126.wav'], '19': ['whoopingcough_27.wav', 'whoopingcough_19.wav', 'whoopingcough_7.wav', 'unknown_599.wav', 'unknown_218.wav'], '20': ['whoopingcough_28.wav', 'whoopingcough_38.wav', 'whoopingcough_5.wav', 'unknown_938.wav', 'unknown_1261.wav'], '21': ['whoopingcough_29.wav', 'whoopingcough_15.wav', 'whoopingcough_8.wav', 'unknown_974.wav', 'unknown_1263.wav'], '22': ['whoopingcough_3.wav', 'whoopingcough_60.wav', 'whoopingcough_34.wav', 'unknown_310.wav', 'unknown_717.wav'], '23': ['whoopingcough_30.wav', 'whoopingcough_27.wav', 'whoopingcough_29.wav', 'unknown_333.wav', 'unknown_185.wav'], '24': ['whoopingcough_31.wav', 'whoopingcough_53.wav', 'whoopingcough_43.wav', 'unknown_1516.wav', 'unknown_948.wav'], '25': ['whoopingcough_32.wav', 'whoopingcough_53.wav', 'whoopingcough_5.wav', 'unknown_979.wav', 'unknown_1348.wav'], '26': ['whoopingcough_33.wav', 'whoopingcough_19.wav', 'whoopingcough_26.wav', 'unknown_1401.wav', 'unknown_1100.wav'], '27': ['whoopingcough_34.wav', 'whoopingcough_13.wav', 'whoopingcough_56.wav', 'unknown_820.wav', 'unknown_631.wav'], '28': ['whoopingcough_35.wav', 'whoopingcough_4.wav', 'whoopingcough_44.wav', 'unknown_384.wav', 'unknown_1203.wav'], '29': ['whoopingcough_36.wav', 'whoopingcough_29.wav', 'whoopingcough_47.wav', 'unknown_1527.wav', 'unknown_636.wav'], '30': ['whoopingcough_37.wav', 'whoopingcough_19.wav', 'whoopingcough_26.wav', 'unknown_309.wav', 'unknown_582.wav'], '31': ['whoopingcough_38.wav', 'whoopingcough_43.wav', 'whoopingcough_29.wav', 'unknown_969.wav', 'unknown_1557.wav'], '32': ['whoopingcough_39.wav', 'whoopingcough_57.wav', 'whoopingcough_45.wav', 'unknown_1469.wav', 'unknown_1194.wav'], '33': ['whoopingcough_4.wav', 'whoopingcough_43.wav', 'whoopingcough_7.wav', 'unknown_187.wav', 'unknown_486.wav'], '34': ['whoopingcough_40.wav', 'whoopingcough_47.wav', 'whoopingcough_1.wav', 'unknown_380.wav', 'unknown_1446.wav'], '35': ['whoopingcough_41.wav', 'whoopingcough_50.wav', 'whoopingcough_6.wav', 'unknown_633.wav', 'unknown_1430.wav'], '36': ['whoopingcough_42.wav', 'whoopingcough_45.wav', 'whoopingcough_51.wav', 'unknown_288.wav', 'unknown_726.wav'], '37': ['whoopingcough_43.wav', 'whoopingcough_35.wav', 'whoopingcough_22.wav', 'unknown_333.wav', 'unknown_1438.wav'], '38': ['whoopingcough_44.wav', 'whoopingcough_30.wav', 'whoopingcough_12.wav', 'unknown_625.wav', 'unknown_1226.wav'], '39': ['whoopingcough_45.wav', 'whoopingcough_8.wav', 'whoopingcough_52.wav', 'unknown_228.wav', 'unknown_49.wav'], '40': ['whoopingcough_46.wav', 'whoopingcough_49.wav', 'whoopingcough_48.wav', 'unknown_1253.wav', 'unknown_865.wav'], '41': ['whoopingcough_47.wav', 'whoopingcough_51.wav', 'whoopingcough_38.wav', 'unknown_73.wav', 'unknown_813.wav'], '42': ['whoopingcough_48.wav', 'whoopingcough_57.wav', 'whoopingcough_33.wav', 'unknown_703.wav', 'unknown_883.wav'], '43': ['whoopingcough_49.wav', 'whoopingcough_27.wav', 'whoopingcough_13.wav', 'unknown_1368.wav', 'unknown_125.wav'], '44': ['whoopingcough_5.wav', 'whoopingcough_18.wav', 'whoopingcough_32.wav', 'unknown_679.wav', 'unknown_752.wav'], '45': ['whoopingcough_50.wav', 'whoopingcough_54.wav', 'whoopingcough_24.wav', 'unknown_1425.wav', 'unknown_1064.wav'], '46': ['whoopingcough_51.wav', 'whoopingcough_60.wav', 'whoopingcough_52.wav', 'unknown_808.wav', 'unknown_546.wav'], '47': ['whoopingcough_52.wav', 'whoopingcough_53.wav', 'whoopingcough_28.wav', 'unknown_427.wav', 'unknown_742.wav'], '48': ['whoopingcough_53.wav', 'whoopingcough_45.wav', 'whoopingcough_8.wav', 'unknown_441.wav', 'unknown_580.wav'], '49': ['whoopingcough_54.wav', 'whoopingcough_18.wav', 'whoopingcough_56.wav', 'unknown_1343.wav', 'unknown_1539.wav'], '50': ['whoopingcough_55.wav', 'whoopingcough_1.wav', 'whoopingcough_21.wav', 'unknown_677.wav', 'unknown_1153.wav'], '51': ['whoopingcough_56.wav', 'whoopingcough_19.wav', 'whoopingcough_38.wav', 'unknown_732.wav', 'unknown_1104.wav'], '52': ['whoopingcough_57.wav', 'whoopingcough_2.wav', 'whoopingcough_38.wav', 'unknown_590.wav', 'unknown_25.wav'], '53': ['whoopingcough_58.wav', 'whoopingcough_5.wav', 'whoopingcough_28.wav', 'unknown_1218.wav', 'unknown_399.wav'], '54': ['whoopingcough_59.wav', 'whoopingcough_31.wav', 'whoopingcough_8.wav', 'unknown_645.wav', 'unknown_461.wav'], '55': ['whoopingcough_6.wav', 'whoopingcough_35.wav', 'whoopingcough_44.wav', 'unknown_40.wav', 'unknown_1281.wav'], '56': ['whoopingcough_60.wav', 'whoopingcough_55.wav', 'whoopingcough_58.wav', 'unknown_997.wav', 'unknown_1223.wav'], '57': ['whoopingcough_7.wav', 'whoopingcough_27.wav', 'whoopingcough_45.wav', 'unknown_291.wav', 'unknown_773.wav'], '58': ['whoopingcough_8.wav', 'whoopingcough_21.wav', 'whoopingcough_47.wav', 'unknown_2.wav', 'unknown_945.wav'], '59': ['whoopingcough_9.wav', 'whoopingcough_52.wav', 'whoopingcough_6.wav', 'unknown_1259.wav', 'unknown_1477.wav']}"
   ]
  },
  {
   "cell_type": "code",
   "execution_count": 13,
   "metadata": {},
   "outputs": [],
   "source": [
    "def recall(cm_train):\n",
    "    recall_dict = {}\n",
    "    print('recall')\n",
    "    idx = 0\n",
    "    for i in cm_train:\n",
    "        samples = sum(i)\n",
    "        recall = i[idx]/samples\n",
    "        print(str(idx) + ': '+ str(recall))\n",
    "        recall_dict[str(idx)] = recall\n",
    "        idx += 1\n",
    "    return recall_dict\n",
    "    \n",
    "def precision(cm_train):\n",
    "    arr_sum = sum(cm_train, 0)\n",
    "    pre_dict = {}\n",
    "    print('precision')\n",
    "    for i in range(len(cm_train)):\n",
    "        pre = cm_train[i][i]/arr_sum[i]\n",
    "        print(str(i) + ': '+ str(pre))\n",
    "        pre_dict[str(i)] = pre\n",
    "    return pre_dict\n",
    "\n",
    "def f1(pre, recall):\n",
    "    score_dict = {}\n",
    "    for key in pre.keys():    \n",
    "        score = 2*(pre[key]*recall[key])/(pre[key]+recall[key])\n",
    "        score_dict[key] = score\n",
    "    print('score: ', score_dict)"
   ]
  },
  {
   "cell_type": "code",
   "execution_count": 14,
   "metadata": {},
   "outputs": [],
   "source": [
    "\n",
    "def predict(dataset, key): \n",
    "    '''predict a few-shot task. Return: predicted label and original label'''\n",
    "#         print(dataset[key])\n",
    "    audio = dataset[key]\n",
    "    query1 = audio[0]\n",
    "    #         print(audio1, audio2, audio3, audio5, audio6)\n",
    "    support1, labels1 = get_support(audio[1:])\n",
    "    #         print(labels1)\n",
    "    #         print(support1, labels1)\n",
    "    pred, label = predictLabel(query1, support1, labels1)\n",
    "    #         print(pred, label)\n",
    "    #         val_predict_label.append(pred)\n",
    "    #         val_real_label.append(label)\n",
    "    return pred, label\n",
    "# predict(way2shot2_unk)\n",
    "# predict(way2shot2_wh)\n",
    "        "
   ]
  },
  {
   "cell_type": "markdown",
   "metadata": {},
   "source": [
    "# TCResNet"
   ]
  },
  {
   "cell_type": "code",
   "execution_count": 19,
   "metadata": {},
   "outputs": [],
   "source": [
    "model_path = \"D:\\\\HoangNgan\\\\DoAn\\\\paper\\\\exp\\\\few-shot-no-fed\\\\2022-05-18 16_52_05_tcresnet_set1\\\\best_model.pt\"\n",
    "model = torch.load(model_path)"
   ]
  },
  {
   "cell_type": "code",
   "execution_count": 117,
   "metadata": {},
   "outputs": [],
   "source": [
    "#way2shot2_unk\n",
    "val_predict_label = []\n",
    "val_real_label = []\n",
    "dataset = way2shot2_unk\n",
    "for key in dataset.keys():\n",
    "    pred, label = predict(dataset, key)\n",
    "    val_predict_label.append(pred)\n",
    "    val_real_label.append(label)\n",
    "    \n",
    "#way2shot2_wh\n",
    "dataset = way2shot2_wh\n",
    "for key in dataset.keys():\n",
    "    pred, label = predict(dataset, key)\n",
    "    val_predict_label.append(pred)\n",
    "    val_real_label.append(label)\n"
   ]
  },
  {
   "cell_type": "code",
   "execution_count": null,
   "metadata": {},
   "outputs": [],
   "source": []
  },
  {
   "cell_type": "code",
   "execution_count": 118,
   "metadata": {},
   "outputs": [
    {
     "name": "stdout",
     "output_type": "stream",
     "text": [
      "4\n",
      "120\n"
     ]
    }
   ],
   "source": [
    "count = 0\n",
    "for i in range(len(val_predict_label)):\n",
    "    if val_predict_label[i] != val_real_label[i]:\n",
    "        count += 1\n",
    "print(count)\n",
    "print(len(val_predict_label))"
   ]
  },
  {
   "cell_type": "code",
   "execution_count": 119,
   "metadata": {},
   "outputs": [],
   "source": [
    "val_true, val_pred = val_real_label ,val_predict_label"
   ]
  },
  {
   "cell_type": "code",
   "execution_count": 120,
   "metadata": {},
   "outputs": [
    {
     "name": "stdout",
     "output_type": "stream",
     "text": [
      "Confusion matrix: \n",
      " [[59  1]\n",
      " [ 3 57]]\n"
     ]
    }
   ],
   "source": [
    "cm_train = confusion_matrix(val_true, val_pred) \n",
    "print('Confusion matrix: \\n', cm_train)"
   ]
  },
  {
   "cell_type": "code",
   "execution_count": 121,
   "metadata": {},
   "outputs": [
    {
     "data": {
      "image/png": "[encoded data removed]",
      "text/plain": [
       "<Figure size 432x288 with 2 Axes>"
      ]
     },
     "metadata": {
      "needs_background": "light"
     },
     "output_type": "display_data"
    }
   ],
   "source": [
    "plot_confusion_matrix(cm_train, classes=['0','1'],\n",
    "                      title='Confusion matrix')"
   ]
  },
  {
   "cell_type": "code",
   "execution_count": 31,
   "metadata": {},
   "outputs": [
    {
     "data": {
      "text/plain": [
       "array([38, 52], dtype=int64)"
      ]
     },
     "execution_count": 31,
     "metadata": {},
     "output_type": "execute_result"
    }
   ],
   "source": [
    "sum(cm_train, 0)"
   ]
  },
  {
   "cell_type": "code",
   "execution_count": 122,
   "metadata": {},
   "outputs": [
    {
     "name": "stdout",
     "output_type": "stream",
     "text": [
      "recall\n",
      "0: 0.9833333333333333\n",
      "1: 0.95\n",
      "precision\n",
      "0: 0.9516129032258065\n",
      "1: 0.9827586206896551\n",
      "score:  {'0': 0.9672131147540983, '1': 0.9661016949152542}\n"
     ]
    }
   ],
   "source": [
    "re = recall(cm_train)\n",
    "pre = precision(cm_train)\n",
    "f1(pre, re)"
   ]
  },
  {
   "cell_type": "markdown",
   "metadata": {},
   "source": [
    "# START: so sánh với predict cũ"
   ]
  },
  {
   "cell_type": "code",
   "execution_count": 26,
   "metadata": {},
   "outputs": [],
   "source": [
    "model_path = \"D:\\\\HoangNgan\\\\DoAn\\\\2022-03-03 07_56_11\\\\best_model.pt\"\n",
    "model = torch.load(model_path)"
   ]
  },
  {
   "cell_type": "code",
   "execution_count": 32,
   "metadata": {},
   "outputs": [
    {
     "name": "stderr",
     "output_type": "stream",
     "text": [
      "C:\\Users\\Admins\\anaconda3\\lib\\site-packages\\torch\\nn\\functional.py:1805: UserWarning: nn.functional.sigmoid is deprecated. Use torch.sigmoid instead.\n",
      "  warnings.warn(\"nn.functional.sigmoid is deprecated. Use torch.sigmoid instead.\")\n",
      "D:\\Jupyter\\Cough Classification\\few-shot-ho-master\\protonets\\models\\encoder\\ResNet18_Attention.py:214: UserWarning: Implicit dimension choice for softmax has been deprecated. Change the call to include dim=X as an argument.\n",
      "  out = F.softmax(out)\n"
     ]
    }
   ],
   "source": [
    "#way2shot2_unk\n",
    "val_predict_label = []\n",
    "val_real_label = []\n",
    "dataset = way2shot2_unk\n",
    "for key in dataset.keys():\n",
    "    pred, label = predict(dataset, key)\n",
    "    val_predict_label.append(pred)\n",
    "    val_real_label.append(label)\n",
    "    \n",
    "#way2shot2_wh\n",
    "dataset = way2shot2_wh\n",
    "for key in dataset.keys():\n",
    "    pred, label = predict(dataset, key)\n",
    "    val_predict_label.append(pred)\n",
    "    val_real_label.append(label)\n"
   ]
  },
  {
   "cell_type": "code",
   "execution_count": 33,
   "metadata": {},
   "outputs": [
    {
     "name": "stdout",
     "output_type": "stream",
     "text": [
      "Confusion matrix: \n",
      " [[57  3]\n",
      " [ 4 56]]\n"
     ]
    }
   ],
   "source": [
    "val_true, val_pred = val_real_label ,val_predict_label\n",
    "cm_train = confusion_matrix(val_true, val_pred) \n",
    "print('Confusion matrix: \\n', cm_train)"
   ]
  },
  {
   "cell_type": "code",
   "execution_count": 34,
   "metadata": {},
   "outputs": [
    {
     "name": "stdout",
     "output_type": "stream",
     "text": [
      "recall\n",
      "0: 0.95\n",
      "1: 0.9333333333333333\n",
      "precision\n",
      "0: 0.9344262295081968\n",
      "1: 0.9491525423728814\n",
      "score:  {'0': 0.9421487603305784, '1': 0.9411764705882353}\n"
     ]
    }
   ],
   "source": [
    "re = recall(cm_train)\n",
    "pre = precision(cm_train)\n",
    "f1(pre, re)"
   ]
  },
  {
   "cell_type": "code",
   "execution_count": null,
   "metadata": {},
   "outputs": [],
   "source": [
    "#check data\n",
    "recall\n",
    "0: 0.5166666666666667\n",
    "1: 0.9166666666666666\n",
    "precision\n",
    "0: 0.8611111111111112\n",
    "1: 0.6547619047619048\n",
    "score:  {'0': 0.6458333333333335, '1': 0.7638888888888888}\n",
    "    \n",
    "    \n",
    "recall\n",
    "0: 0.5333333333333333\n",
    "1: 0.9333333333333333\n",
    "precision\n",
    "0: 0.8888888888888888\n",
    "1: 0.6666666666666666\n",
    "score:  {'0': 0.6666666666666667, '1': 0.7777777777777778}"
   ]
  },
  {
   "cell_type": "code",
   "execution_count": null,
   "metadata": {},
   "outputs": [],
   "source": [
    "#way2shot2\n",
    "recall\n",
    "0: 0.95\n",
    "1: 0.9333333333333333\n",
    "precision\n",
    "0: 0.9344262295081968\n",
    "1: 0.9491525423728814\n",
    "score:  {'0': 0.9421487603305784, '1': 0.9411764705882353}"
   ]
  },
  {
   "cell_type": "markdown",
   "metadata": {},
   "source": [
    "# END"
   ]
  },
  {
   "cell_type": "markdown",
   "metadata": {},
   "source": [
    "# TCResNet: distance"
   ]
  },
  {
   "cell_type": "code",
   "execution_count": 20,
   "metadata": {},
   "outputs": [],
   "source": [
    "model_path = \"D:\\\\HoangNgan\\\\DoAn\\\\paper\\\\exp\\\\few-shot-no-fed\\\\2022-05-28 095550_tcresnet_1set\\\\best_model.pt\"\n",
    "model = torch.load(model_path)"
   ]
  },
  {
   "cell_type": "code",
   "execution_count": 22,
   "metadata": {},
   "outputs": [],
   "source": [
    "#way2shot2_unk\n",
    "val_predict_label = []\n",
    "val_real_label = []\n",
    "dataset = way2shot2_unk\n",
    "for key in dataset.keys():\n",
    "    pred, label = predict(dataset, key)\n",
    "    val_predict_label.append(pred)\n",
    "    val_real_label.append(label)\n",
    "    \n",
    "#way2shot2_wh\n",
    "dataset = way2shot2_wh\n",
    "for key in dataset.keys():\n",
    "    pred, label = predict(dataset, key)\n",
    "    val_predict_label.append(pred)\n",
    "    val_real_label.append(label)\n"
   ]
  },
  {
   "cell_type": "code",
   "execution_count": 23,
   "metadata": {},
   "outputs": [
    {
     "name": "stdout",
     "output_type": "stream",
     "text": [
      "Confusion matrix: \n",
      " [[60  0]\n",
      " [ 0 60]]\n"
     ]
    },
    {
     "data": {
      "image/png": "[encoded data removed]",
      "text/plain": [
       "<Figure size 432x288 with 2 Axes>"
      ]
     },
     "metadata": {
      "needs_background": "light"
     },
     "output_type": "display_data"
    }
   ],
   "source": [
    "val_true, val_pred = val_real_label ,val_predict_label\n",
    "cm_train = confusion_matrix(val_true, val_pred) \n",
    "print('Confusion matrix: \\n', cm_train)\n",
    "plot_confusion_matrix(cm_train, classes=['0','1'],\n",
    "                      title='Confusion matrix')"
   ]
  },
  {
   "cell_type": "code",
   "execution_count": 24,
   "metadata": {},
   "outputs": [
    {
     "name": "stdout",
     "output_type": "stream",
     "text": [
      "recall\n",
      "0: 1.0\n",
      "1: 1.0\n",
      "precision\n",
      "0: 1.0\n",
      "1: 1.0\n",
      "score:  {'0': 1.0, '1': 1.0}\n"
     ]
    }
   ],
   "source": [
    "re = recall(cm_train)\n",
    "pre = precision(cm_train)\n",
    "f1(pre, re)"
   ]
  },
  {
   "cell_type": "markdown",
   "metadata": {},
   "source": [
    "# TCResNetFed"
   ]
  },
  {
   "cell_type": "code",
   "execution_count": 123,
   "metadata": {},
   "outputs": [],
   "source": [
    "model_path = \"D:\\\\HoangNgan\\\\DoAn\\\\paper\\\\exp\\\\few-fed\\\\2022-05-09 05_51_23\\\\best_model.pt\"\n",
    "model = torch.load(model_path)"
   ]
  },
  {
   "cell_type": "code",
   "execution_count": 124,
   "metadata": {},
   "outputs": [],
   "source": [
    "#way2shot2_unk\n",
    "val_predict_label = []\n",
    "val_real_label = []\n",
    "dataset = way2shot2_unk\n",
    "for key in dataset.keys():\n",
    "    pred, label = predict(dataset, key)\n",
    "    val_predict_label.append(pred)\n",
    "    val_real_label.append(label)\n",
    "    \n",
    "#way2shot2_wh\n",
    "dataset = way2shot2_wh\n",
    "for key in dataset.keys():\n",
    "    pred, label = predict(dataset, key)\n",
    "    val_predict_label.append(pred)\n",
    "    val_real_label.append(label)\n"
   ]
  },
  {
   "cell_type": "code",
   "execution_count": 125,
   "metadata": {},
   "outputs": [
    {
     "name": "stdout",
     "output_type": "stream",
     "text": [
      "Confusion matrix: \n",
      " [[56  4]\n",
      " [16 44]]\n"
     ]
    },
    {
     "data": {
      "image/png": "[encoded data removed]",
      "text/plain": [
       "<Figure size 432x288 with 2 Axes>"
      ]
     },
     "metadata": {
      "needs_background": "light"
     },
     "output_type": "display_data"
    }
   ],
   "source": [
    "val_true, val_pred = val_real_label ,val_predict_label\n",
    "cm_train = confusion_matrix(val_true, val_pred) \n",
    "print('Confusion matrix: \\n', cm_train)\n",
    "plot_confusion_matrix(cm_train, classes=['0','1'],\n",
    "                      title='Confusion matrix')"
   ]
  },
  {
   "cell_type": "code",
   "execution_count": 126,
   "metadata": {},
   "outputs": [
    {
     "name": "stdout",
     "output_type": "stream",
     "text": [
      "recall\n",
      "0: 0.9333333333333333\n",
      "1: 0.7333333333333333\n",
      "precision\n",
      "0: 0.7777777777777778\n",
      "1: 0.9166666666666666\n",
      "score:  {'0': 0.8484848484848485, '1': 0.8148148148148148}\n"
     ]
    }
   ],
   "source": [
    "re = recall(cm_train)\n",
    "pre = precision(cm_train)\n",
    "f1(pre, re)"
   ]
  },
  {
   "cell_type": "markdown",
   "metadata": {},
   "source": [
    "# ATT"
   ]
  },
  {
   "cell_type": "code",
   "execution_count": 127,
   "metadata": {},
   "outputs": [],
   "source": [
    "model_path = \"D:\\\\HoangNgan\\\\DoAn\\\\paper\\\\exp\\\\few-shot-no-fed\\\\2022-05-18 17_30_33_att_set1\\\\best_model.pt\"\n",
    "model = torch.load(model_path)"
   ]
  },
  {
   "cell_type": "code",
   "execution_count": 128,
   "metadata": {},
   "outputs": [
    {
     "name": "stderr",
     "output_type": "stream",
     "text": [
      "C:\\Users\\Admins\\anaconda3\\lib\\site-packages\\torch\\nn\\functional.py:1805: UserWarning: nn.functional.sigmoid is deprecated. Use torch.sigmoid instead.\n",
      "  warnings.warn(\"nn.functional.sigmoid is deprecated. Use torch.sigmoid instead.\")\n",
      "D:\\Jupyter\\Cough Classification\\few-shot-ho-master\\protonets\\models\\encoder\\ResNet18_Attention.py:214: UserWarning: Implicit dimension choice for softmax has been deprecated. Change the call to include dim=X as an argument.\n",
      "  out = F.softmax(out)\n"
     ]
    }
   ],
   "source": [
    "#way2shot2_unk\n",
    "val_predict_label = []\n",
    "val_real_label = []\n",
    "dataset = way2shot2_unk\n",
    "for key in dataset.keys():\n",
    "    pred, label = predict(dataset, key)\n",
    "    val_predict_label.append(pred)\n",
    "    val_real_label.append(label)\n",
    "    \n",
    "#way2shot2_wh\n",
    "dataset = way2shot2_wh\n",
    "for key in dataset.keys():\n",
    "    pred, label = predict(dataset, key)\n",
    "    val_predict_label.append(pred)\n",
    "    val_real_label.append(label)\n"
   ]
  },
  {
   "cell_type": "code",
   "execution_count": 129,
   "metadata": {},
   "outputs": [
    {
     "name": "stdout",
     "output_type": "stream",
     "text": [
      "Confusion matrix: \n",
      " [[41 19]\n",
      " [28 32]]\n"
     ]
    },
    {
     "data": {
      "image/png": "[encoded data removed]",
      "text/plain": [
       "<Figure size 432x288 with 2 Axes>"
      ]
     },
     "metadata": {
      "needs_background": "light"
     },
     "output_type": "display_data"
    }
   ],
   "source": [
    "val_true, val_pred = val_real_label ,val_predict_label\n",
    "cm_train = confusion_matrix(val_true, val_pred) \n",
    "print('Confusion matrix: \\n', cm_train)\n",
    "plot_confusion_matrix(cm_train, classes=['0','1'],\n",
    "                      title='Confusion matrix')"
   ]
  },
  {
   "cell_type": "code",
   "execution_count": 130,
   "metadata": {},
   "outputs": [
    {
     "name": "stdout",
     "output_type": "stream",
     "text": [
      "recall\n",
      "0: 0.6833333333333333\n",
      "1: 0.5333333333333333\n",
      "precision\n",
      "0: 0.5942028985507246\n",
      "1: 0.6274509803921569\n",
      "score:  {'0': 0.6356589147286822, '1': 0.5765765765765766}\n"
     ]
    }
   ],
   "source": [
    "re = recall(cm_train)\n",
    "pre = precision(cm_train)\n",
    "f1(pre, re)"
   ]
  },
  {
   "cell_type": "markdown",
   "metadata": {},
   "source": [
    "# ATT FED"
   ]
  },
  {
   "cell_type": "code",
   "execution_count": 131,
   "metadata": {},
   "outputs": [],
   "source": [
    "\n",
    "model_path = \"D:\\\\HoangNgan\\\\DoAn\\\\2022-03-03 07_56_11\\\\best_model.pt\"\n",
    "model = torch.load(model_path)"
   ]
  },
  {
   "cell_type": "code",
   "execution_count": 132,
   "metadata": {},
   "outputs": [
    {
     "name": "stderr",
     "output_type": "stream",
     "text": [
      "C:\\Users\\Admins\\anaconda3\\lib\\site-packages\\torch\\nn\\functional.py:1805: UserWarning: nn.functional.sigmoid is deprecated. Use torch.sigmoid instead.\n",
      "  warnings.warn(\"nn.functional.sigmoid is deprecated. Use torch.sigmoid instead.\")\n",
      "D:\\Jupyter\\Cough Classification\\few-shot-ho-master\\protonets\\models\\encoder\\ResNet18_Attention.py:214: UserWarning: Implicit dimension choice for softmax has been deprecated. Change the call to include dim=X as an argument.\n",
      "  out = F.softmax(out)\n"
     ]
    }
   ],
   "source": [
    "#way2shot2_unk\n",
    "val_predict_label = []\n",
    "val_real_label = []\n",
    "dataset = way2shot2_unk\n",
    "for key in dataset.keys():\n",
    "    pred, label = predict(dataset, key)\n",
    "    val_predict_label.append(pred)\n",
    "    val_real_label.append(label)\n",
    "    \n",
    "#way2shot2_wh\n",
    "dataset = way2shot2_wh\n",
    "for key in dataset.keys():\n",
    "    pred, label = predict(dataset, key)\n",
    "    val_predict_label.append(pred)\n",
    "    val_real_label.append(label)\n"
   ]
  },
  {
   "cell_type": "code",
   "execution_count": 133,
   "metadata": {},
   "outputs": [
    {
     "name": "stdout",
     "output_type": "stream",
     "text": [
      "Confusion matrix: \n",
      " [[57  3]\n",
      " [ 4 56]]\n"
     ]
    },
    {
     "data": {
      "image/png": "[encoded data removed]",
      "text/plain": [
       "<Figure size 432x288 with 2 Axes>"
      ]
     },
     "metadata": {
      "needs_background": "light"
     },
     "output_type": "display_data"
    }
   ],
   "source": [
    "val_true, val_pred = val_real_label ,val_predict_label\n",
    "cm_train = confusion_matrix(val_true, val_pred) \n",
    "print('Confusion matrix: \\n', cm_train)\n",
    "plot_confusion_matrix(cm_train, classes=['0','1'],\n",
    "                      title='Confusion matrix')"
   ]
  },
  {
   "cell_type": "code",
   "execution_count": 134,
   "metadata": {},
   "outputs": [
    {
     "name": "stdout",
     "output_type": "stream",
     "text": [
      "recall\n",
      "0: 0.95\n",
      "1: 0.9333333333333333\n",
      "precision\n",
      "0: 0.9344262295081968\n",
      "1: 0.9491525423728814\n",
      "score:  {'0': 0.9421487603305784, '1': 0.9411764705882353}\n"
     ]
    }
   ],
   "source": [
    "re = recall(cm_train)\n",
    "pre = precision(cm_train)\n",
    "f1(pre, re)"
   ]
  },
  {
   "cell_type": "markdown",
   "metadata": {},
   "source": [
    "# Updated version - Few-fed"
   ]
  },
  {
   "cell_type": "markdown",
   "metadata": {},
   "source": [
    "ATT - KERNEL"
   ]
  },
  {
   "cell_type": "code",
   "execution_count": 137,
   "metadata": {},
   "outputs": [],
   "source": [
    "\n",
    "model_path = \"D:\\\\HoangNgan\\\\DoAn\\\\paper\\\\exp\\\\few-fed\\\\2022-05-21 07_33_52_att_kernel\\\\best_model.pt\"\n",
    "model = torch.load(model_path)"
   ]
  },
  {
   "cell_type": "code",
   "execution_count": 142,
   "metadata": {},
   "outputs": [],
   "source": [
    "#way2shot2_unk\n",
    "val_predict_label = []\n",
    "val_real_label = []\n",
    "dataset = way2shot2_unk\n",
    "for key in dataset.keys():\n",
    "#     print(key)\n",
    "    pred, label = predict(dataset, key)\n",
    "    val_predict_label.append(pred)\n",
    "    val_real_label.append(label)\n",
    "    \n",
    "#way2shot2_wh\n",
    "dataset = way2shot2_wh\n",
    "for key in dataset.keys():\n",
    "#     print(key)\n",
    "    pred, label = predict(dataset, key)\n",
    "    val_predict_label.append(pred)\n",
    "    val_real_label.append(label)\n"
   ]
  },
  {
   "cell_type": "code",
   "execution_count": 143,
   "metadata": {},
   "outputs": [
    {
     "name": "stdout",
     "output_type": "stream",
     "text": [
      "Confusion matrix: \n",
      " [[28 32]\n",
      " [26 34]]\n"
     ]
    },
    {
     "data": {
      "image/png": "[encoded data removed]",
      "text/plain": [
       "<Figure size 432x288 with 2 Axes>"
      ]
     },
     "metadata": {
      "needs_background": "light"
     },
     "output_type": "display_data"
    }
   ],
   "source": [
    "val_true, val_pred = val_real_label ,val_predict_label\n",
    "cm_train = confusion_matrix(val_true, val_pred) \n",
    "print('Confusion matrix: \\n', cm_train)\n",
    "plot_confusion_matrix(cm_train, classes=['0','1'],\n",
    "                      title='Confusion matrix')"
   ]
  },
  {
   "cell_type": "code",
   "execution_count": 144,
   "metadata": {},
   "outputs": [
    {
     "name": "stdout",
     "output_type": "stream",
     "text": [
      "recall\n",
      "0: 0.4666666666666667\n",
      "1: 0.5666666666666667\n",
      "precision\n",
      "0: 0.5185185185185185\n",
      "1: 0.5151515151515151\n",
      "score:  {'0': 0.4912280701754386, '1': 0.5396825396825397}\n"
     ]
    }
   ],
   "source": [
    "re = recall(cm_train)\n",
    "pre = precision(cm_train)\n",
    "f1(pre, re)"
   ]
  },
  {
   "cell_type": "markdown",
   "metadata": {},
   "source": [
    "ATT - DILATION"
   ]
  },
  {
   "cell_type": "code",
   "execution_count": 146,
   "metadata": {},
   "outputs": [],
   "source": [
    "\n",
    "model_path = \"D:\\\\HoangNgan\\\\DoAn\\\\paper\\\\exp\\\\few-fed\\\\2022-05-21 22_43_14_att_dilation\\\\best_model.pt\"\n",
    "model = torch.load(model_path)"
   ]
  },
  {
   "cell_type": "code",
   "execution_count": 147,
   "metadata": {},
   "outputs": [
    {
     "name": "stderr",
     "output_type": "stream",
     "text": [
      "C:\\Users\\Admins\\anaconda3\\lib\\site-packages\\torch\\nn\\functional.py:1805: UserWarning: nn.functional.sigmoid is deprecated. Use torch.sigmoid instead.\n",
      "  warnings.warn(\"nn.functional.sigmoid is deprecated. Use torch.sigmoid instead.\")\n",
      "D:\\Jupyter\\Cough Classification\\few-shot-ho-master\\protonets\\models\\encoder\\ResNet18_Attention_dilation_v2.py:217: UserWarning: Implicit dimension choice for softmax has been deprecated. Change the call to include dim=X as an argument.\n",
      "  out = F.softmax(out)\n"
     ]
    }
   ],
   "source": [
    "#way2shot2_unk\n",
    "val_predict_label = []\n",
    "val_real_label = []\n",
    "dataset = way2shot2_unk\n",
    "for key in dataset.keys():\n",
    "#     print(key)\n",
    "    pred, label = predict(dataset, key)\n",
    "    val_predict_label.append(pred)\n",
    "    val_real_label.append(label)\n",
    "    \n",
    "#way2shot2_wh\n",
    "dataset = way2shot2_wh\n",
    "for key in dataset.keys():\n",
    "#     print(key)\n",
    "    pred, label = predict(dataset, key)\n",
    "    val_predict_label.append(pred)\n",
    "    val_real_label.append(label)\n"
   ]
  },
  {
   "cell_type": "code",
   "execution_count": 148,
   "metadata": {},
   "outputs": [
    {
     "name": "stdout",
     "output_type": "stream",
     "text": [
      "Confusion matrix: \n",
      " [[58  2]\n",
      " [ 9 51]]\n"
     ]
    },
    {
     "data": {
      "image/png": "[encoded data removed]",
      "text/plain": [
       "<Figure size 432x288 with 2 Axes>"
      ]
     },
     "metadata": {
      "needs_background": "light"
     },
     "output_type": "display_data"
    }
   ],
   "source": [
    "val_true, val_pred = val_real_label ,val_predict_label\n",
    "cm_train = confusion_matrix(val_true, val_pred) \n",
    "print('Confusion matrix: \\n', cm_train)\n",
    "plot_confusion_matrix(cm_train, classes=['0','1'],\n",
    "                      title='Confusion matrix')"
   ]
  },
  {
   "cell_type": "code",
   "execution_count": 149,
   "metadata": {},
   "outputs": [
    {
     "name": "stdout",
     "output_type": "stream",
     "text": [
      "recall\n",
      "0: 0.9666666666666667\n",
      "1: 0.85\n",
      "precision\n",
      "0: 0.8656716417910447\n",
      "1: 0.9622641509433962\n",
      "score:  {'0': 0.9133858267716535, '1': 0.9026548672566371}\n"
     ]
    }
   ],
   "source": [
    "re = recall(cm_train)\n",
    "pre = precision(cm_train)\n",
    "f1(pre, re)"
   ]
  },
  {
   "cell_type": "markdown",
   "metadata": {},
   "source": [
    "ATT-KERNEL_DILATION-FED"
   ]
  },
  {
   "cell_type": "code",
   "execution_count": 17,
   "metadata": {},
   "outputs": [],
   "source": [
    "\n",
    "\n",
    "model_path = \"D:\\\\HoangNgan\\\\DoAn\\\\paper\\\\exp\\\\few-fed\\\\2022-05-23 07_11_45_att_kernel_dilation\\\\best_model.pt\"\n",
    "model = torch.load(model_path)"
   ]
  },
  {
   "cell_type": "code",
   "execution_count": 21,
   "metadata": {},
   "outputs": [
    {
     "name": "stderr",
     "output_type": "stream",
     "text": [
      "C:\\Users\\Admins\\anaconda3\\lib\\site-packages\\torch\\nn\\functional.py:1805: UserWarning: nn.functional.sigmoid is deprecated. Use torch.sigmoid instead.\n",
      "  warnings.warn(\"nn.functional.sigmoid is deprecated. Use torch.sigmoid instead.\")\n",
      "D:\\Jupyter\\Cough Classification\\few-shot-ho-master\\protonets\\models\\encoder\\ResNet18_Attention_kernel_dilation_v2.py:218: UserWarning: Implicit dimension choice for softmax has been deprecated. Change the call to include dim=X as an argument.\n",
      "  out = F.softmax(out)\n"
     ]
    }
   ],
   "source": [
    "#way2shot2_unk\n",
    "val_predict_label = []\n",
    "val_real_label = []\n",
    "dataset = way2shot2_unk\n",
    "for key in dataset.keys():\n",
    "#     print(key)\n",
    "    pred, label = predict(dataset, key)\n",
    "    val_predict_label.append(pred)\n",
    "    val_real_label.append(label)\n",
    "    \n",
    "#way2shot2_wh\n",
    "dataset = way2shot2_wh\n",
    "for key in dataset.keys():\n",
    "#     print(key)\n",
    "    pred, label = predict(dataset, key)\n",
    "    val_predict_label.append(pred)\n",
    "    val_real_label.append(label)\n"
   ]
  },
  {
   "cell_type": "code",
   "execution_count": 22,
   "metadata": {},
   "outputs": [
    {
     "name": "stdout",
     "output_type": "stream",
     "text": [
      "Confusion matrix: \n",
      " [[30 30]\n",
      " [33 27]]\n"
     ]
    },
    {
     "data": {
      "image/png": "[encoded data removed]",
      "text/plain": [
       "<Figure size 432x288 with 2 Axes>"
      ]
     },
     "metadata": {
      "needs_background": "light"
     },
     "output_type": "display_data"
    }
   ],
   "source": [
    "val_true, val_pred = val_real_label ,val_predict_label\n",
    "cm_train = confusion_matrix(val_true, val_pred) \n",
    "print('Confusion matrix: \\n', cm_train)\n",
    "plot_confusion_matrix(cm_train, classes=['0','1'],\n",
    "                      title='Confusion matrix')"
   ]
  },
  {
   "cell_type": "code",
   "execution_count": 23,
   "metadata": {},
   "outputs": [
    {
     "name": "stdout",
     "output_type": "stream",
     "text": [
      "recall\n",
      "0: 0.5\n",
      "1: 0.45\n",
      "precision\n",
      "0: 0.47619047619047616\n",
      "1: 0.47368421052631576\n",
      "score:  {'0': 0.4878048780487805, '1': 0.46153846153846156}\n"
     ]
    }
   ],
   "source": [
    "re = recall(cm_train)\n",
    "pre = precision(cm_train)\n",
    "f1(pre, re)"
   ]
  },
  {
   "cell_type": "markdown",
   "metadata": {},
   "source": [
    "# Attention - kernel (ver 2)"
   ]
  },
  {
   "cell_type": "code",
   "execution_count": 15,
   "metadata": {},
   "outputs": [],
   "source": [
    "\n",
    "\n",
    "model_path = \"D:\\\\HoangNgan\\\\DoAn\\\\paper\\\\exp\\\\few-fed\\\\2022-05-29 05_11_56_attention_kernel\\\\best_model.pt\"\n",
    "model = torch.load(model_path)"
   ]
  },
  {
   "cell_type": "code",
   "execution_count": 16,
   "metadata": {},
   "outputs": [
    {
     "name": "stderr",
     "output_type": "stream",
     "text": [
      "C:\\Users\\Admins\\anaconda3\\lib\\site-packages\\torch\\nn\\functional.py:1805: UserWarning: nn.functional.sigmoid is deprecated. Use torch.sigmoid instead.\n",
      "  warnings.warn(\"nn.functional.sigmoid is deprecated. Use torch.sigmoid instead.\")\n",
      "D:\\Jupyter\\Cough Classification\\few-shot-ho-master\\protonets\\models\\encoder\\ResNet18_Attention_kernel_v2.py:216: UserWarning: Implicit dimension choice for softmax has been deprecated. Change the call to include dim=X as an argument.\n",
      "  out = F.softmax(out)\n"
     ]
    }
   ],
   "source": [
    "#way2shot2_unk\n",
    "val_predict_label = []\n",
    "val_real_label = []\n",
    "dataset = way2shot2_unk\n",
    "for key in dataset.keys():\n",
    "#     print(key)\n",
    "    pred, label = predict(dataset, key)\n",
    "    val_predict_label.append(pred)\n",
    "    val_real_label.append(label)\n",
    "    \n",
    "#way2shot2_wh\n",
    "dataset = way2shot2_wh\n",
    "for key in dataset.keys():\n",
    "#     print(key)\n",
    "    pred, label = predict(dataset, key)\n",
    "    val_predict_label.append(pred)\n",
    "    val_real_label.append(label)\n"
   ]
  },
  {
   "cell_type": "code",
   "execution_count": 17,
   "metadata": {},
   "outputs": [
    {
     "name": "stdout",
     "output_type": "stream",
     "text": [
      "Confusion matrix: \n",
      " [[44 16]\n",
      " [26 34]]\n"
     ]
    },
    {
     "data": {
      "image/png": "[encoded data removed]",
      "text/plain": [
       "<Figure size 432x288 with 2 Axes>"
      ]
     },
     "metadata": {
      "needs_background": "light"
     },
     "output_type": "display_data"
    }
   ],
   "source": [
    "val_true, val_pred = val_real_label ,val_predict_label\n",
    "cm_train = confusion_matrix(val_true, val_pred) \n",
    "print('Confusion matrix: \\n', cm_train)\n",
    "plot_confusion_matrix(cm_train, classes=['0','1'],\n",
    "                      title='Confusion matrix')"
   ]
  },
  {
   "cell_type": "code",
   "execution_count": 18,
   "metadata": {},
   "outputs": [
    {
     "name": "stdout",
     "output_type": "stream",
     "text": [
      "recall\n",
      "0: 0.7333333333333333\n",
      "1: 0.5666666666666667\n",
      "precision\n",
      "0: 0.6285714285714286\n",
      "1: 0.68\n",
      "score:  {'0': 0.6769230769230768, '1': 0.6181818181818183}\n"
     ]
    }
   ],
   "source": [
    "re = recall(cm_train)\n",
    "pre = precision(cm_train)\n",
    "f1(pre, re)"
   ]
  },
  {
   "cell_type": "code",
   "execution_count": null,
   "metadata": {},
   "outputs": [],
   "source": []
  }
 ],
 "metadata": {
  "kernelspec": {
   "display_name": "Python 3",
   "language": "python",
   "name": "python3"
  },
  "language_info": {
   "codemirror_mode": {
    "name": "ipython",
    "version": 3
   },
   "file_extension": ".py",
   "mimetype": "text/x-python",
   "name": "python",
   "nbconvert_exporter": "python",
   "pygments_lexer": "ipython3",
   "version": "3.8.5"
  }
 },
 "nbformat": 4,
 "nbformat_minor": 4
}
