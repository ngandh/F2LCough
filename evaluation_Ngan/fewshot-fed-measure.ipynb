{
 "cells": [
  {
   "cell_type": "code",
   "execution_count": 2,
   "metadata": {},
   "outputs": [
    {
     "name": "stdout",
     "output_type": "stream",
     "text": [
      "D:\\Jupyter\\Cough Classification\\few-shot-ho-master\n"
     ]
    }
   ],
   "source": [
    "cd \"D:\\Jupyter\\Cough Classification\\few-shot-ho-master\""
   ]
  },
  {
   "cell_type": "code",
   "execution_count": 3,
   "metadata": {},
   "outputs": [],
   "source": [
    "import torch\n",
    "import torchaudio\n",
    "import torch.nn as nn\n",
    "import os\n",
    "from os import listdir\n",
    "import torch.nn.functional as F\n",
    "from protonets.models.encoder.baseUtil import Flatten, get_padding\n",
    "from collections import OrderedDict\n",
    "import numpy as np"
   ]
  },
  {
   "cell_type": "code",
   "execution_count": 4,
   "metadata": {},
   "outputs": [],
   "source": [
    "import os\n",
    "def cough_path(file):\n",
    "    label = file.split(\"_\")[0]\n",
    "#     print(label)\n",
    "    file_path =os.path.join(os.path.join(path, label), file)\n",
    "    return file_path, label\n",
    "\n",
    "def build_mfcc_extractor():\n",
    "        frame_len = 128/ 1000\n",
    "        stride = (128/2)/ 1000\n",
    "        sample_rate = 16000\n",
    "        mfcc = torchaudio.transforms.MFCC(sample_rate = 16000,\n",
    "                                        n_mfcc=40,\n",
    "                                        melkwargs={\n",
    "                                            'hop_length' : int(stride*sample_rate),\n",
    "                                            'n_fft' : int(frame_len*sample_rate)})\n",
    "        return mfcc\n",
    "    \n",
    "def load_audio(filepath):\n",
    "        desired_samples = int(16000*1000/1000)\n",
    "        sound, _ = torchaudio.load(filepath=filepath,\n",
    "                                         num_frames=desired_samples)\n",
    "#         d[out_field] = sound\n",
    "        return sound\n",
    "\n",
    "def getData(file):\n",
    "    file_path, label = cough_path(file)\n",
    "    sound = load_audio(file_path)\n",
    "#     print(\"file: \", sound)\n",
    "    mfcc = build_mfcc_extractor()\n",
    "#     x = mfcc(sound).reshape(1,51,40)\n",
    "    features = mfcc(sound)[0]\n",
    "    features = features.T # f x t -> t x f\n",
    "    x = torch.unsqueeze(features,0)\n",
    "#     print(x.shape)\n",
    "    return x, label\n",
    "\n",
    "def euclidean_dist(x, y):\n",
    "    # x: N x D\n",
    "    # y: M x D\n",
    "#     print(x.shape) #1, 3, 48\n",
    "    n = x.size(0)\n",
    "    m = y.size(0)\n",
    "    d = x.size(1)\n",
    "#     print(n, m, d)\n",
    "#     print(\"y_Shape: \", y.shape) #3, 1, 48\n",
    "#     print(y.size(1))\n",
    "    assert d == y.size(1)\n",
    "\n",
    "    x = x.unsqueeze(1).expand(n, m, d)\n",
    "#     print(x)\n",
    "#     print(\"x_u: \", x.shape)\n",
    "    y = y.unsqueeze(0).expand(n, m, d)\n",
    "#     print(y)\n",
    "#     print(\"y_u: \", y.shape)\n",
    "    return torch.pow(x - y, 2).sum(2)"
   ]
  },
  {
   "cell_type": "code",
   "execution_count": 5,
   "metadata": {},
   "outputs": [],
   "source": [
    "model_path = \"D:\\\\HoangNgan\\\\DoAn\\\\2022-03-03 07_56_11\\\\best_model.pt\"\n",
    "model = torch.load(model_path)"
   ]
  },
  {
   "cell_type": "code",
   "execution_count": 6,
   "metadata": {},
   "outputs": [],
   "source": [
    "model = torch.load(model_path)"
   ]
  },
  {
   "cell_type": "code",
   "execution_count": 7,
   "metadata": {},
   "outputs": [],
   "source": [
    "\n",
    "# query = request.FILES.get('query', None).name\n",
    "# s1 = request.FILES.get('s1', None).name\n",
    "# audio.append(s1)\n",
    "# s2 = request.FILES.get('s2', None).name\n",
    "# audio.append(s2)\n",
    "# s3 = request.FILES.get('s3', None).name\n",
    "# audio.append(s3)\n",
    "# s4 = request.FILES.get('s4', None).name\n",
    "# audio.append(s4)\n",
    "\n",
    "def get_support(audio):\n",
    "    support = {}\n",
    "    labels = []\n",
    "    for file in audio:\n",
    "        label = file.split(\"_\")[0]\n",
    "        if label not in labels:\n",
    "            labels.append(label)\n",
    "        if label not in support:\n",
    "            support[label] = []\n",
    "        for same in audio:\n",
    "            if label == same.split(\"_\")[0]:\n",
    "                if same not in support[label]:\n",
    "                    support[label].append(same)\n",
    "    return support, labels\n",
    "\n",
    "def predictLabel(query, support, labels):\n",
    "    x, label = getData(query)\n",
    "    xq_emb = model.encoder(x.reshape(1, 1, 16, 40))\n",
    "#     print(\"xq_emb: \", xq_emb.shape)\n",
    "    su_label = []\n",
    "    su_pro = []\n",
    "    for key, value in support.items():\n",
    "        su_label.append(key)\n",
    "        tmp = []\n",
    "        check = 0\n",
    "        count = 0\n",
    "        for i in value:\n",
    "            x, label_i = getData(i)\n",
    "            feature = x.reshape(1, 1, 16, 40)\n",
    "            emb = model.encoder.forward(feature).squeeze()\n",
    "#             print(\"y_emb:\", emb.shape)\n",
    "            check += emb\n",
    "            tmp.append(emb.detach().numpy())\n",
    "            count += 1\n",
    "#         print(\"check:\", (check/3).shape)\n",
    "#         print(\"check:\", check/count, count)\n",
    "        tmp = np.array(tmp)\n",
    "        pro = (tmp).mean(0)\n",
    "#         print(\"pro: \", pro)\n",
    "        su_pro.append(pro)\n",
    "    dists = euclidean_dist(xq_emb.reshape(1, 48), torch.tensor(su_pro))\n",
    "    n_class, n_query = torch.tensor(su_pro).shape[0], 1\n",
    "    log_p_y = F.log_softmax(-dists, dim=1).view(n_class, n_query, -1)\n",
    "#     print(\"log_py: \", log_p_y)\n",
    "    g, y_hat = log_p_y.max(0)\n",
    "#     print(\"log_py: \", log_p_y.max(0))\n",
    "#     print(\"g, y_hat: \", g, y_hat)\n",
    "    pred = labels[y_hat.squeeze()]\n",
    "    return pred, label"
   ]
  },
  {
   "cell_type": "code",
   "execution_count": 11,
   "metadata": {},
   "outputs": [
    {
     "name": "stdout",
     "output_type": "stream",
     "text": [
      "barkingcough:  1040\n",
      "chestyandwetcough:  1663\n",
      "coughingupcrapagain:  884\n",
      "dryafternooncough:  1040\n",
      "gaggywetcough:  1117\n",
      "heavycoldandsorethroatcoughing:  416\n",
      "nightwetcough:  1300\n",
      "springallergycoughing:  884\n",
      "unknown:  1557\n",
      "whoopingcough:  40\n"
     ]
    }
   ],
   "source": [
    "path = \"D:\\\\HoangNgan\\\\ThucTap\\\\Cough_data_Tuan1\\\\mono\"\n",
    "label_list = []\n",
    "label_dict = {}\n",
    "for i in listdir(path):\n",
    "    if \".txt\" not in i and \"aug\" not in i and 'Copy' not in i:\n",
    "        label_list.append(i)\n",
    "        label_dict[str(i)] = len(listdir(os.path.join(path, i)))\n",
    "        print(str(i) + \": \", len(listdir(os.path.join(path, i))))"
   ]
  },
  {
   "cell_type": "code",
   "execution_count": 9,
   "metadata": {},
   "outputs": [
    {
     "data": {
      "text/plain": [
       "1663"
      ]
     },
     "execution_count": 9,
     "metadata": {},
     "output_type": "execute_result"
    }
   ],
   "source": [
    "label_dict[label_list[1]]"
   ]
  },
  {
   "cell_type": "code",
   "execution_count": 9,
   "metadata": {},
   "outputs": [
    {
     "name": "stdout",
     "output_type": "stream",
     "text": [
      "['barkingcough', 'chestyandwetcough', 'coughingupcrapagain', 'dryafternooncough', 'gaggywetcough', 'heavycoldandsorethroatcoughing', 'nightwetcough', 'springallergycoughing', 'unknown', 'whoopingcough']\n"
     ]
    }
   ],
   "source": [
    "print(label_list)"
   ]
  },
  {
   "cell_type": "code",
   "execution_count": 213,
   "metadata": {},
   "outputs": [],
   "source": [
    "audio = []\n",
    "query = \"whoopingcough_30.wav\"\n",
    "# audio.append(query)\n",
    "s1 = \"unknown_1.wav\"\n",
    "audio.append(s1)\n",
    "s2 = \"unknown_1.wav\"\n",
    "audio.append(s2)\n",
    "s3 = \"unknown_11.wav\"\n",
    "audio.append(s3)\n",
    "s4 = \"unknown_21.wav\"\n",
    "audio.append(s4)"
   ]
  },
  {
   "cell_type": "code",
   "execution_count": 214,
   "metadata": {},
   "outputs": [
    {
     "name": "stdout",
     "output_type": "stream",
     "text": [
      "{'unknown': ['unknown_1.wav', 'unknown_11.wav', 'unknown_21.wav']} ['unknown']\n",
      "xq_emb:  torch.Size([1, 48])\n",
      "y_emb: torch.Size([48])\n",
      "y_emb: torch.Size([48])\n",
      "y_emb: torch.Size([48])\n",
      "torch.Size([1, 48])\n",
      "1 1 48\n",
      "y_Shape:  torch.Size([1, 48])\n",
      "log_py:  tensor([[[0.]]], grad_fn=<ViewBackward>)\n",
      "log_py:  torch.return_types.max(\n",
      "values=tensor([[0.]], grad_fn=<MaxBackward0>),\n",
      "indices=tensor([[0]]))\n",
      "g, y_hat:  tensor([[0.]], grad_fn=<MaxBackward0>) tensor([[0]])\n",
      "('unknown', 'whoopingcough')\n"
     ]
    }
   ],
   "source": [
    "support, labels = get_support(audio)\n",
    "print(support, labels)\n",
    "print(predictLabel(query, support, labels))"
   ]
  },
  {
   "cell_type": "code",
   "execution_count": 10,
   "metadata": {},
   "outputs": [],
   "source": [
    "#setup dataset\n",
    "#2way-2shot\n",
    "#train\n",
    "train_label = label_list[:8]\n",
    "test_label = label_list[8:]"
   ]
  },
  {
   "cell_type": "code",
   "execution_count": 11,
   "metadata": {},
   "outputs": [
    {
     "name": "stdout",
     "output_type": "stream",
     "text": [
      "['unknown', 'whoopingcough']\n"
     ]
    }
   ],
   "source": [
    "print(test_label)"
   ]
  },
  {
   "cell_type": "code",
   "execution_count": 12,
   "metadata": {},
   "outputs": [
    {
     "name": "stdout",
     "output_type": "stream",
     "text": [
      "(0, 5, 'barkingcough', 'heavycoldandsorethroatcoughing')\n",
      "('whoopingcough_32.wav', 'whoopingcough_29.wav', 'whoopingcough_23.wav')\n"
     ]
    }
   ],
   "source": [
    "#label1:\n",
    "import random\n",
    "def set_support_label(index_label):\n",
    "    index_list = list(range(len(train_label)))\n",
    "#     print(index_label)\n",
    "    index_list.remove(index_label)\n",
    "#     print(index_list)\n",
    "    new_index_list = index_list\n",
    "    ix = random.choice(new_index_list)\n",
    "    label1 = train_label[index_label]\n",
    "    label2 = train_label[ix]\n",
    "    return index_label, ix, label1, label2\n",
    "\n",
    "\n",
    "def set_support_label2(index_label):\n",
    "    index_list = list(range(len(test_label)))\n",
    "#     print(index_label)\n",
    "    index_list.remove(index_label)\n",
    "#     print(index_list)\n",
    "    new_index_list = index_list\n",
    "    ix = random.choice(new_index_list)\n",
    "    label1 = test_label[index_label]\n",
    "    label2 = test_label[ix]\n",
    "    return index_label, ix, label1, label2\n",
    "\n",
    "def set_support_data(label, index_audio):\n",
    "#     if index_label == 0:\n",
    "#         index_label = 8\n",
    "#     else:\n",
    "#         index_label = 9\n",
    "    index_list = list(range(1, label_dict[label]+1))\n",
    "#     index = random.choice(index_list)\n",
    "    index_list.remove(index_audio)\n",
    "    new_index_list = index_list\n",
    "    ix = random.choice(new_index_list)\n",
    "    \n",
    "    new_index_list.remove(ix)\n",
    "    temp_list = new_index_list\n",
    "    ixx = random.choice(temp_list)\n",
    "    audio1 = label+'_'+str(index_audio)+'.wav'\n",
    "    audio2 = label+'_'+str(ix)+'.wav'\n",
    "    audio3 = label+'_'+str(ixx)+'.wav'\n",
    "    return audio1, audio2, audio3\n",
    "\n",
    "print(set_support_label(0))\n",
    "# print(list(range(len(train_label))))\n",
    "print(set_support_data(\"whoopingcough\", 32))"
   ]
  },
  {
   "cell_type": "code",
   "execution_count": 232,
   "metadata": {},
   "outputs": [],
   "source": [
    "query1, support1, labels1 = None, None, None"
   ]
  },
  {
   "cell_type": "code",
   "execution_count": 13,
   "metadata": {},
   "outputs": [
    {
     "name": "stderr",
     "output_type": "stream",
     "text": [
      "C:\\Users\\Admins\\anaconda3\\lib\\site-packages\\torch\\nn\\functional.py:1805: UserWarning: nn.functional.sigmoid is deprecated. Use torch.sigmoid instead.\n",
      "  warnings.warn(\"nn.functional.sigmoid is deprecated. Use torch.sigmoid instead.\")\n",
      "D:\\Jupyter\\Cough Classification\\few-shot-ho-master\\protonets\\models\\encoder\\ResNet18_Attention.py:220: UserWarning: Implicit dimension choice for softmax has been deprecated. Change the call to include dim=X as an argument.\n",
      "  out = F.softmax(out)\n"
     ]
    }
   ],
   "source": [
    "predict_label = []\n",
    "real_label = []\n",
    "i = 0\n",
    "            \n",
    "for i_label in train_label: # lap qua moi nhan\n",
    "    index_label, ix_label, label1, label2 = set_support_label(i)\n",
    "    for i_data in range(0, label_dict[label1]): #lap qua moi data cua 1 nhan\n",
    "        i_data += 1\n",
    "        try:\n",
    "            audio1, audio2, audio3 = set_support_data(label1, i_data)\n",
    "            ix_data = random.choice(list(range(1, label_dict[label2]+1)))\n",
    "            audio4, audio5, audio6 = set_support_data(label2, ix_data)\n",
    "            audio = [audio2, audio3, audio5, audio6]\n",
    "        except:\n",
    "            print(index_label, i_data)\n",
    "            print(ix_label, i_data)\n",
    "#         print(audio)\n",
    "#         audio.append()\n",
    "        query1 = audio1\n",
    "#         print(audio1, audio2, audio3, audio5, audio6)\n",
    "        support1, labels1 = get_support(audio)\n",
    "#         print(labels1)\n",
    "#         print(support1, labels1)\n",
    "        pred, label = predictLabel(query1, support1, labels1)\n",
    "#         print(pred, label)\n",
    "        predict_label.append(pred)\n",
    "        real_label.append(label)\n",
    "#         break\n",
    "#         print(predict_label(query1, support1, labels1))\n",
    "\n",
    "    i += 1\n",
    "#     break"
   ]
  },
  {
   "cell_type": "code",
   "execution_count": 14,
   "metadata": {},
   "outputs": [],
   "source": [
    "import matplotlib.pyplot as plt\n",
    "import itertools\n",
    "from sklearn.metrics import classification_report, confusion_matrix\n",
    "def plot_confusion_matrix(cm, classes,\n",
    "                          normalize=False,\n",
    "                          title='Confusion matrix',\n",
    "                          cmap=plt.cm.Blues):\n",
    "    \"\"\"\n",
    "    This function prints and plots the confusion matrix.\n",
    "    Normalization can be applied by setting `normalize=True`.\n",
    "    \"\"\"\n",
    "    if normalize:\n",
    "        cm = cm.astype('float') / cm.sum(axis=1, keepdims = True)\n",
    "\n",
    "    plt.imshow(cm, interpolation='nearest', cmap=cmap)\n",
    "    plt.title(title)\n",
    "    plt.colorbar()\n",
    "    tick_marks = np.arange(len(classes))\n",
    "    plt.xticks(tick_marks, classes, rotation=45)\n",
    "    plt.yticks(tick_marks, classes)\n",
    "\n",
    "    fmt = '.2f' if normalize else 'd'\n",
    "    thresh = cm.max() / 2.\n",
    "    for i, j in itertools.product(range(cm.shape[0]), range(cm.shape[1])):\n",
    "        plt.text(j, i, format(cm[i, j], fmt),\n",
    "                 horizontalalignment=\"center\",\n",
    "                 color=\"white\" if cm[i, j] > thresh else \"black\")\n",
    "\n",
    "    plt.tight_layout()\n",
    "    plt.ylabel('True label')\n",
    "    plt.xlabel('Predicted label')"
   ]
  },
  {
   "cell_type": "code",
   "execution_count": 15,
   "metadata": {},
   "outputs": [
    {
     "name": "stdout",
     "output_type": "stream",
     "text": [
      "8344\n",
      "8344\n"
     ]
    }
   ],
   "source": [
    "print(len(predict_label))\n",
    "print(len(real_label))"
   ]
  },
  {
   "cell_type": "code",
   "execution_count": 16,
   "metadata": {},
   "outputs": [
    {
     "name": "stdout",
     "output_type": "stream",
     "text": [
      "1363\n"
     ]
    }
   ],
   "source": [
    "count = 0\n",
    "for i in range(len(predict_label)):\n",
    "    if predict_label[i] != real_label[i]:\n",
    "        count += 1\n",
    "print(count)"
   ]
  },
  {
   "cell_type": "code",
   "execution_count": 19,
   "metadata": {},
   "outputs": [],
   "source": [
    "y_pred = predict_label\n",
    "y_true = real_label"
   ]
  },
  {
   "cell_type": "code",
   "execution_count": 20,
   "metadata": {},
   "outputs": [
    {
     "name": "stdout",
     "output_type": "stream",
     "text": [
      "Confusion matrix: \n",
      " [[ 928    0    0    0  112    0    0    0]\n",
      " [   0 1633    0   30    0    0    0    0]\n",
      " [   0    0  797    0   87    0    0    0]\n",
      " [   0    0    0  849    0  191    0    0]\n",
      " [   0    0  632    0  485    0    0    0]\n",
      " [   0   61    0    0    0  355    0    0]\n",
      " [   0    0    0    0    0   17 1283    0]\n",
      " [   0    0    0    0    0  233    0  651]]\n"
     ]
    }
   ],
   "source": [
    "cm_train = confusion_matrix(y_true, y_pred) \n",
    "print('Confusion matrix: \\n', cm_train)"
   ]
  },
  {
   "cell_type": "code",
   "execution_count": 21,
   "metadata": {},
   "outputs": [
    {
     "data": {
      "image/png": "[encoded data removed]",
      "text/plain": [
       "<Figure size 432x288 with 2 Axes>"
      ]
     },
     "metadata": {
      "needs_background": "light"
     },
     "output_type": "display_data"
    }
   ],
   "source": [
    "plot_confusion_matrix(cm_train, classes=['0','1', '2', '3', '4', '5', '6', '7'],\n",
    "                      title='Confusion matrix')"
   ]
  },
  {
   "cell_type": "code",
   "execution_count": 31,
   "metadata": {},
   "outputs": [
    {
     "name": "stdout",
     "output_type": "stream",
     "text": [
      "{'barkingcough': 0.9144230769230769, 'chestyandwetcough': 0.9801563439567047, 'coughingupcrapagain': 0.9841628959276018, 'dryafternooncough': 0.7865384615384615, 'gaggywetcough': 0.4279319606087735, 'heavycoldandsorethroatcoughing': 0.8533653846153846, 'nightwetcough': 0.6861538461538461, 'springallergycoughing': 0.6968325791855203, 'unknown': 0.827874116891458, 'whoopingcough': 0.9393939393939394}\n"
     ]
    }
   ],
   "source": [
    "result = {'barkingcough': 951/1040, 'chestyandwetcough': 1630/1663, \n",
    "          'coughingupcrapagain': 870/884, 'dryafternooncough': 818/1040, \n",
    "          'gaggywetcough': 478/1117, 'heavycoldandsorethroatcoughing': 355/416, \n",
    "          'nightwetcough': 892/1300, 'springallergycoughing': 616/884, \n",
    "          'unknown': 1289/1557, 'whoopingcough': 31/33}\n",
    "print(result)"
   ]
  },
  {
   "cell_type": "code",
   "execution_count": 23,
   "metadata": {},
   "outputs": [
    {
     "name": "stderr",
     "output_type": "stream",
     "text": [
      "C:\\Users\\Admins\\anaconda3\\lib\\site-packages\\torch\\nn\\functional.py:1805: UserWarning: nn.functional.sigmoid is deprecated. Use torch.sigmoid instead.\n",
      "  warnings.warn(\"nn.functional.sigmoid is deprecated. Use torch.sigmoid instead.\")\n",
      "D:\\Jupyter\\Cough Classification\\few-shot-ho-master\\protonets\\models\\encoder\\ResNet18_Attention.py:220: UserWarning: Implicit dimension choice for softmax has been deprecated. Change the call to include dim=X as an argument.\n",
      "  out = F.softmax(out)\n"
     ]
    }
   ],
   "source": [
    "val_predict_label = []\n",
    "val_real_label = []\n",
    "i = 0\n",
    "for i_label in test_label: # lap qua moi nhan\n",
    "    index_label, ix_label, label1, label2 = set_support_label2(i)\n",
    "    \n",
    "    for i_data in range(0, label_dict[label1]): #lap qua moi data cua 1 nhan\n",
    "        i_data += 1\n",
    "        try:\n",
    "            audio1, audio2, audio3 = set_support_data(label1, i_data)\n",
    "            ix_data = random.choice(list(range(1, label_dict[label2]+1)))\n",
    "            audio4, audio5, audio6 = set_support_data(label2, ix_data)\n",
    "            audio = [audio2, audio3, audio5, audio6]\n",
    "        except:\n",
    "            print(index_label, i_data)\n",
    "            print(ix_label, i_data)\n",
    "#         print(audio)\n",
    "#         audio.append()\n",
    "        query1 = audio1\n",
    "#         print(audio1, audio2, audio3, audio5, audio6)\n",
    "        support1, labels1 = get_support(audio)\n",
    "#         print(labels1)\n",
    "#         print(support1, labels1)\n",
    "        pred, label = predictLabel(query1, support1, labels1)\n",
    "#         print(pred, label)\n",
    "        val_predict_label.append(pred)\n",
    "        val_real_label.append(label)\n",
    "#         break\n",
    "#         print(predict_label(query1, support1, labels1))\n",
    "\n",
    "    i += 1"
   ]
  },
  {
   "cell_type": "code",
   "execution_count": 27,
   "metadata": {},
   "outputs": [
    {
     "name": "stdout",
     "output_type": "stream",
     "text": [
      "270\n",
      "1590\n"
     ]
    }
   ],
   "source": [
    "count = 0\n",
    "for i in range(len(val_predict_label)):\n",
    "    if val_predict_label[i] != val_real_label[i]:\n",
    "        count += 1\n",
    "print(count)\n",
    "print(len(val_predict_label))"
   ]
  },
  {
   "cell_type": "code",
   "execution_count": 28,
   "metadata": {},
   "outputs": [],
   "source": [
    "val_true, val_pred = val_real_label ,val_predict_label"
   ]
  },
  {
   "cell_type": "code",
   "execution_count": 29,
   "metadata": {},
   "outputs": [
    {
     "name": "stdout",
     "output_type": "stream",
     "text": [
      "Confusion matrix: \n",
      " [[1289  268]\n",
      " [   2   31]]\n"
     ]
    }
   ],
   "source": [
    "cm_train = confusion_matrix(val_true, val_pred) \n",
    "print('Confusion matrix: \\n', cm_train)"
   ]
  },
  {
   "cell_type": "code",
   "execution_count": 30,
   "metadata": {},
   "outputs": [
    {
     "data": {
      "image/png": "[encoded data removed]",
      "text/plain": [
       "<Figure size 432x288 with 2 Axes>"
      ]
     },
     "metadata": {
      "needs_background": "light"
     },
     "output_type": "display_data"
    }
   ],
   "source": [
    "plot_confusion_matrix(cm_train, classes=['0','1'],\n",
    "                      title='Confusion matrix')"
   ]
  },
  {
   "cell_type": "markdown",
   "metadata": {},
   "source": [
    "# Version 1"
   ]
  },
  {
   "cell_type": "code",
   "execution_count": 277,
   "metadata": {},
   "outputs": [
    {
     "name": "stdout",
     "output_type": "stream",
     "text": [
      "8336\n",
      "8336\n"
     ]
    }
   ],
   "source": [
    "print(len(predict_label))\n",
    "print(len(real_label))"
   ]
  },
  {
   "cell_type": "code",
   "execution_count": 279,
   "metadata": {},
   "outputs": [
    {
     "name": "stdout",
     "output_type": "stream",
     "text": [
      "1338\n"
     ]
    }
   ],
   "source": [
    "count = 0\n",
    "for i in range(len(predict_label)):\n",
    "    if predict_label[i] != real_label[i]:\n",
    "        count += 1\n",
    "print(count)"
   ]
  },
  {
   "cell_type": "code",
   "execution_count": 282,
   "metadata": {},
   "outputs": [],
   "source": [
    "y_pred = predict_label\n",
    "y_true = real_label"
   ]
  },
  {
   "cell_type": "code",
   "execution_count": null,
   "metadata": {},
   "outputs": [],
   "source": [
    "for i in range(1, label_dict[label_list[9]]):\n",
    "    print(i)"
   ]
  },
  {
   "cell_type": "code",
   "execution_count": 268,
   "metadata": {},
   "outputs": [
    {
     "data": {
      "text/plain": [
       "range(1, 33)"
      ]
     },
     "execution_count": 268,
     "metadata": {},
     "output_type": "execute_result"
    }
   ],
   "source": [
    "range(1, label_dict[label_list[9]])"
   ]
  },
  {
   "cell_type": "code",
   "execution_count": 284,
   "metadata": {},
   "outputs": [
    {
     "name": "stdout",
     "output_type": "stream",
     "text": [
      "Confusion matrix: \n",
      " [[ 740    0    0  299    0    0    0    0]\n",
      " [   0 1231    0    0    0    0  431    0]\n",
      " [  14    0  869    0    0    0    0    0]\n",
      " [   0    0   50  989    0    0    0    0]\n",
      " [   0    0    0  236  880    0    0    0]\n",
      " [   0    0    0    0   77  338    0    0]\n",
      " [   0    0    0    0  158    0 1141    0]\n",
      " [   0   73    0    0    0    0    0  810]]\n"
     ]
    }
   ],
   "source": [
    "cm_train = confusion_matrix(y_true, y_pred) \n",
    "print('Confusion matrix: \\n', cm_train)"
   ]
  },
  {
   "cell_type": "code",
   "execution_count": 286,
   "metadata": {},
   "outputs": [
    {
     "data": {
      "image/png": "[encoded data removed]",
      "text/plain": [
       "<Figure size 432x288 with 2 Axes>"
      ]
     },
     "metadata": {
      "needs_background": "light"
     },
     "output_type": "display_data"
    }
   ],
   "source": [
    "plot_confusion_matrix(cm_train, classes=['0','1', '2', '3', '4', '5', '6', '7'],\n",
    "                      title='Confusion matrix')"
   ]
  },
  {
   "cell_type": "code",
   "execution_count": null,
   "metadata": {},
   "outputs": [],
   "source": [
    "[]"
   ]
  },
  {
   "cell_type": "code",
   "execution_count": 288,
   "metadata": {},
   "outputs": [
    {
     "name": "stdout",
     "output_type": "stream",
     "text": [
      "{'barkingcough': 1040, 'chestyandwetcough': 1663, 'coughingupcrapagain': 884, 'dryafternooncough': 1040, 'gaggywetcough': 1117, 'heavycoldandsorethroatcoughing': 416, 'nightwetcough': 1300, 'springallergycoughing': 884, 'unknown': 1557, 'whoopingcough': 33}\n"
     ]
    }
   ],
   "source": [
    "print(label_dict)"
   ]
  },
  {
   "cell_type": "code",
   "execution_count": 289,
   "metadata": {},
   "outputs": [
    {
     "name": "stdout",
     "output_type": "stream",
     "text": [
      "0.8475083259197043\n"
     ]
    }
   ],
   "source": [
    "m = 740/1040  + 1231/1663 + 869/884 + 989/1040 + 880/1117 + 338/416 + 1141/1300 + 810/884\n",
    "print(m/8)\n"
   ]
  },
  {
   "cell_type": "code",
   "execution_count": 2,
   "metadata": {},
   "outputs": [
    {
     "name": "stdout",
     "output_type": "stream",
     "text": [
      "{'barkingcough': 0.7115384615384616, 'chestyandwetcough': 0.7402285027059531, 'coughingupcrapagain': 0.9830316742081447, 'dryafternooncough': 0.9509615384615384, 'gaggywetcough': 0.7878245299910475, 'heavycoldandsorethroatcoughing': 0.8125, 'nightwetcough': 0.8776923076923077, 'springallergycoughing': 0.916289592760181, 'unknown': 0.8310854206807964, 'whoopingcough': 0.9090909090909091}\n"
     ]
    }
   ],
   "source": [
    "result = {'barkingcough': 740/1040, 'chestyandwetcough': 1231/1663, \n",
    "          'coughingupcrapagain': 869/884, 'dryafternooncough': 989/1040, \n",
    "          'gaggywetcough': 880/1117, 'heavycoldandsorethroatcoughing': 338/416, \n",
    "          'nightwetcough': 1141/1300, 'springallergycoughing': 810/884, \n",
    "          'unknown': 1294/1557, 'whoopingcough': 30/33}\n",
    "print(result)"
   ]
  },
  {
   "cell_type": "code",
   "execution_count": 1,
   "metadata": {},
   "outputs": [
    {
     "name": "stdout",
     "output_type": "stream",
     "text": [
      "{'barkingcough': 0.7122232916265641, 'chestyandwetcough': 0.7406738868832732, 'coughingupcrapagain': 0.984144960362401, 'dryafternooncough': 0.9518768046198267, 'gaggywetcough': 0.7885304659498208, 'heavycoldandsorethroatcoughing': 0.8144578313253013, 'nightwetcough': 0.8783679753656659, 'springallergycoughing': 0.9173272933182333, 'unknown': 0.8310854206807964, 'whoopingcough': 0.9090909090909091}\n"
     ]
    }
   ],
   "source": [
    "result = {'barkingcough': 740/1039, 'chestyandwetcough': 1231/1662, \n",
    "          'coughingupcrapagain': 869/883, 'dryafternooncough': 989/1039, \n",
    "          'gaggywetcough': 880/1116, 'heavycoldandsorethroatcoughing': 338/415, \n",
    "          'nightwetcough': 1141/1299, 'springallergycoughing': 810/883, \n",
    "          'unknown': 1294/1557, 'whoopingcough': 30/33}\n",
    "print(result)"
   ]
  },
  {
   "cell_type": "code",
   "execution_count": 3,
   "metadata": {},
   "outputs": [
    {
     "name": "stdout",
     "output_type": "stream",
     "text": [
      "0.87\n"
     ]
    }
   ],
   "source": [
    "s = (0.831 + 0.909)/2\n",
    "print(s)"
   ]
  },
  {
   "cell_type": "code",
   "execution_count": 303,
   "metadata": {},
   "outputs": [],
   "source": [
    "val_predict_label = []\n",
    "val_real_label = []\n",
    "i = 0\n",
    "for i_label in test_label: # lap qua moi nhan\n",
    "    index_label, ix_label, label1, label2 = set_support_label2(i)\n",
    "    \n",
    "    for i_data in range(0, label_dict[label1]): #lap qua moi data cua 1 nhan\n",
    "        i_data += 1\n",
    "        try:\n",
    "            audio1, audio2, audio3 = set_support_data(label1, i_data)\n",
    "            ix_data = random.choice(list(range(1, label_dict[label2]+1)))\n",
    "            audio4, audio5, audio6 = set_support_data(label2, ix_data)\n",
    "            audio = [audio2, audio3, audio5, audio6]\n",
    "        except:\n",
    "            print(index_label, i_data)\n",
    "            print(ix_label, i_data)\n",
    "#         print(audio)\n",
    "#         audio.append()\n",
    "        query1 = audio1\n",
    "#         print(audio1, audio2, audio3, audio5, audio6)\n",
    "        support1, labels1 = get_support(audio)\n",
    "#         print(labels1)\n",
    "#         print(support1, labels1)\n",
    "        pred, label = predictLabel(query1, support1, labels1)\n",
    "#         print(pred, label)\n",
    "        val_predict_label.append(pred)\n",
    "        val_real_label.append(label)\n",
    "#         break\n",
    "#         print(predict_label(query1, support1, labels1))\n",
    "\n",
    "    i += 1\n",
    "#     break"
   ]
  },
  {
   "cell_type": "code",
   "execution_count": 307,
   "metadata": {},
   "outputs": [
    {
     "name": "stdout",
     "output_type": "stream",
     "text": [
      "266\n",
      "1590\n"
     ]
    }
   ],
   "source": [
    "count = 0\n",
    "for i in range(len(val_predict_label)):\n",
    "    if i \n",
    "    if val_predict_label[i] != val_real_label[i]:\n",
    "        count += 1\n",
    "print(count)\n",
    "print(len(val_predict_label))"
   ]
  },
  {
   "cell_type": "code",
   "execution_count": 308,
   "metadata": {},
   "outputs": [],
   "source": [
    "val_true, val_pred = val_real_label ,val_predict_label"
   ]
  },
  {
   "cell_type": "code",
   "execution_count": 309,
   "metadata": {},
   "outputs": [
    {
     "name": "stdout",
     "output_type": "stream",
     "text": [
      "Confusion matrix: \n",
      " [[1294  263]\n",
      " [   3   30]]\n"
     ]
    }
   ],
   "source": [
    "cm_train = confusion_matrix(val_true, val_pred) \n",
    "print('Confusion matrix: \\n', cm_train)"
   ]
  },
  {
   "cell_type": "code",
   "execution_count": 310,
   "metadata": {},
   "outputs": [
    {
     "data": {
      "image/png": "[encoded data removed]",
      "text/plain": [
       "<Figure size 432x288 with 2 Axes>"
      ]
     },
     "metadata": {
      "needs_background": "light"
     },
     "output_type": "display_data"
    }
   ],
   "source": [
    "plot_confusion_matrix(cm_train, classes=['0','1'],\n",
    "                      title='Confusion matrix')"
   ]
  },
  {
   "cell_type": "code",
   "execution_count": null,
   "metadata": {},
   "outputs": [],
   "source": [
    "1294/1557 = 0.831085 # unknown\n",
    "30/33 = 0.90909091"
   ]
  },
  {
   "cell_type": "code",
   "execution_count": null,
   "metadata": {},
   "outputs": [],
   "source": [
    "load\n",
    "start====\n",
    "predict\n",
    "end====\n"
   ]
  },
  {
   "cell_type": "markdown",
   "metadata": {},
   "source": [
    "# Ver 3 (same sample)"
   ]
  },
  {
   "cell_type": "code",
   "execution_count": null,
   "metadata": {},
   "outputs": [],
   "source": [
    "val_predict_label = []\n",
    "val_real_label = []\n",
    "i = 0\n",
    "for i_label in test_label: # lap qua moi nhan\n",
    "    index_label, ix_label, label1, label2 = set_support_label2(i)\n",
    "    \n",
    "#     for i_data in range(0, label_dict[label1]): #lap qua moi data cua 1 nhan\n",
    "    for i_data in range(0, 33):\n",
    "        i_data += 1\n",
    "        try:\n",
    "            audio1, audio2, audio3 = set_support_data(label1, i_data)\n",
    "            ix_data = random.choice(list(range(1, label_dict[label2]+1)))\n",
    "            audio4, audio5, audio6 = set_support_data(label2, ix_data)\n",
    "            audio = [audio2, audio3, audio5, audio6]\n",
    "        except:\n",
    "            print(index_label, i_data)\n",
    "            print(ix_label, i_data)\n",
    "#         print(audio)\n",
    "#         audio.append()\n",
    "        query1 = audio1\n",
    "#         print(audio1, audio2, audio3, audio5, audio6)\n",
    "        support1, labels1 = get_support(audio)\n",
    "#         print(labels1)\n",
    "#         print(support1, labels1)\n",
    "        pred, label = predictLabel(query1, support1, labels1)\n",
    "#         print(pred, label)\n",
    "        val_predict_label.append(pred)\n",
    "        val_real_label.append(label)\n",
    "#         break\n",
    "#         print(predict_label(query1, support1, labels1))\n",
    "\n",
    "    i += 1"
   ]
  },
  {
   "cell_type": "code",
   "execution_count": null,
   "metadata": {},
   "outputs": [],
   "source": [
    "val_true, val_pred = val_real_label ,val_predict_label\n",
    "cm_train = confusion_matrix(val_true, val_pred) \n",
    "print('Confusion matrix: \\n', cm_train)\n",
    "plot_confusion_matrix(cm_train, classes=['0','1'],\n",
    "                      title='Confusion matrix')"
   ]
  },
  {
   "cell_type": "code",
   "execution_count": null,
   "metadata": {},
   "outputs": [],
   "source": [
    "Confusion matrix: \n",
    " [[18 15]\n",
    " [ 3 30]]"
   ]
  }
 ],
 "metadata": {
  "kernelspec": {
   "display_name": "Python 3",
   "language": "python",
   "name": "python3"
  },
  "language_info": {
   "codemirror_mode": {
    "name": "ipython",
    "version": 3
   },
   "file_extension": ".py",
   "mimetype": "text/x-python",
   "name": "python",
   "nbconvert_exporter": "python",
   "pygments_lexer": "ipython3",
   "version": "3.8.5"
  }
 },
 "nbformat": 4,
 "nbformat_minor": 4
}
